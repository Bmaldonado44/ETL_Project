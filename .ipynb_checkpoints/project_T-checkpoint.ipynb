{
 "cells": [
  {
   "cell_type": "code",
   "execution_count": 21,
   "metadata": {},
   "outputs": [],
   "source": [
    "import matplotlib.pyplot as plt\n",
    "import csv\n",
    "import pandas as pd\n",
    "from sqlalchemy import create_engine\n",
    "import io\n",
    "from io import StringIO"
   ]
  },
  {
   "cell_type": "code",
   "execution_count": 22,
   "metadata": {
    "scrolled": true
   },
   "outputs": [],
   "source": [
    "#path to csv file\n",
    "netflix_file = \"../ETL_Project/netflix_titles.csv\"\n",
    "\n",
    "#Read in csv file using StringIO to separate multiple country values in single cell on the comma\n",
    "#and create new df to stack the rows \n",
    "netflix_df = pd.read_csv(netflix_file)\n",
    "netflix_df_2 = netflix_df.country.str.split(',').apply(pd.Series, 1).stack()\n",
    "\n",
    "#drop the index from intial df and join both dfs\n",
    "netflix_df_2.index = netflix_df_2.index.droplevel(-1)\n",
    "netflix_df_2.name = 'country'\n",
    "del netflix_df['country']\n",
    "netflix_df = netflix_df.join(netflix_df_2)"
   ]
  },
  {
   "cell_type": "code",
   "execution_count": 23,
   "metadata": {},
   "outputs": [
    {
     "data": {
      "text/plain": [
       "title         7658\n",
       "type          7658\n",
       "date_added    7647\n",
       "country       7182\n",
       "dtype: int64"
      ]
     },
     "execution_count": 23,
     "metadata": {},
     "output_type": "execute_result"
    }
   ],
   "source": [
    "#removed unnecessary columns\n",
    "netflix_col=[\"title\", \"type\", \"date_added\", \"country\"]\n",
    "netflix_transformed=netflix_df[netflix_col].copy()\n",
    "\n",
    "#count of values in the columns\n",
    "netflix_transformed.count()\n"
   ]
  },
  {
   "cell_type": "code",
   "execution_count": 24,
   "metadata": {},
   "outputs": [
    {
     "data": {
      "text/plain": [
       "title         7182\n",
       "type          7182\n",
       "date_added    7173\n",
       "country       7182\n",
       "dtype: int64"
      ]
     },
     "execution_count": 24,
     "metadata": {},
     "output_type": "execute_result"
    }
   ],
   "source": [
    "#drop rows that do not have a 'country' value\n",
    "netflix_transformed= netflix_transformed.dropna(subset=['country'])\n",
    "netflix_transformed.count()"
   ]
  },
  {
   "cell_type": "code",
   "execution_count": 25,
   "metadata": {},
   "outputs": [
    {
     "name": "stdout",
     "output_type": "stream",
     "text": [
      "title         7173\n",
      "type          7173\n",
      "date_added    7173\n",
      "country       7173\n",
      "dtype: int64\n"
     ]
    },
    {
     "data": {
      "text/html": [
       "<div>\n",
       "<style scoped>\n",
       "    .dataframe tbody tr th:only-of-type {\n",
       "        vertical-align: middle;\n",
       "    }\n",
       "\n",
       "    .dataframe tbody tr th {\n",
       "        vertical-align: top;\n",
       "    }\n",
       "\n",
       "    .dataframe thead th {\n",
       "        text-align: right;\n",
       "    }\n",
       "</style>\n",
       "<table border=\"1\" class=\"dataframe\">\n",
       "  <thead>\n",
       "    <tr style=\"text-align: right;\">\n",
       "      <th></th>\n",
       "      <th>title</th>\n",
       "      <th>type</th>\n",
       "      <th>date_added</th>\n",
       "      <th>country</th>\n",
       "    </tr>\n",
       "  </thead>\n",
       "  <tbody>\n",
       "    <tr>\n",
       "      <th>0</th>\n",
       "      <td>Norm of the North: King Sized Adventure</td>\n",
       "      <td>Movie</td>\n",
       "      <td>9-Sep-19</td>\n",
       "      <td>United States</td>\n",
       "    </tr>\n",
       "    <tr>\n",
       "      <th>0</th>\n",
       "      <td>Norm of the North: King Sized Adventure</td>\n",
       "      <td>Movie</td>\n",
       "      <td>9-Sep-19</td>\n",
       "      <td>India</td>\n",
       "    </tr>\n",
       "    <tr>\n",
       "      <th>0</th>\n",
       "      <td>Norm of the North: King Sized Adventure</td>\n",
       "      <td>Movie</td>\n",
       "      <td>9-Sep-19</td>\n",
       "      <td>South Korea</td>\n",
       "    </tr>\n",
       "    <tr>\n",
       "      <th>0</th>\n",
       "      <td>Norm of the North: King Sized Adventure</td>\n",
       "      <td>Movie</td>\n",
       "      <td>9-Sep-19</td>\n",
       "      <td>China</td>\n",
       "    </tr>\n",
       "    <tr>\n",
       "      <th>1</th>\n",
       "      <td>Jandino: Whatever it Takes</td>\n",
       "      <td>Movie</td>\n",
       "      <td>9-Sep-16</td>\n",
       "      <td>United Kingdom</td>\n",
       "    </tr>\n",
       "    <tr>\n",
       "      <th>...</th>\n",
       "      <td>...</td>\n",
       "      <td>...</td>\n",
       "      <td>...</td>\n",
       "      <td>...</td>\n",
       "    </tr>\n",
       "    <tr>\n",
       "      <th>6218</th>\n",
       "      <td>Talking Tom and Friends</td>\n",
       "      <td>TV Show</td>\n",
       "      <td>April 10, 2019</td>\n",
       "      <td>Thailand</td>\n",
       "    </tr>\n",
       "    <tr>\n",
       "      <th>6219</th>\n",
       "      <td>Pokémon the Series</td>\n",
       "      <td>TV Show</td>\n",
       "      <td>April 1, 2019</td>\n",
       "      <td>Japan</td>\n",
       "    </tr>\n",
       "    <tr>\n",
       "      <th>6220</th>\n",
       "      <td>Justin Time</td>\n",
       "      <td>TV Show</td>\n",
       "      <td>April 1, 2016</td>\n",
       "      <td>Canada</td>\n",
       "    </tr>\n",
       "    <tr>\n",
       "      <th>6221</th>\n",
       "      <td>Terrace House: Boys &amp; Girls in the City</td>\n",
       "      <td>TV Show</td>\n",
       "      <td>April 1, 2016</td>\n",
       "      <td>Japan</td>\n",
       "    </tr>\n",
       "    <tr>\n",
       "      <th>6222</th>\n",
       "      <td>Weeds</td>\n",
       "      <td>TV Show</td>\n",
       "      <td>April 1, 2014</td>\n",
       "      <td>United States</td>\n",
       "    </tr>\n",
       "  </tbody>\n",
       "</table>\n",
       "<p>7173 rows × 4 columns</p>\n",
       "</div>"
      ],
      "text/plain": [
       "                                        title     type       date_added  \\\n",
       "0     Norm of the North: King Sized Adventure    Movie         9-Sep-19   \n",
       "0     Norm of the North: King Sized Adventure    Movie         9-Sep-19   \n",
       "0     Norm of the North: King Sized Adventure    Movie         9-Sep-19   \n",
       "0     Norm of the North: King Sized Adventure    Movie         9-Sep-19   \n",
       "1                  Jandino: Whatever it Takes    Movie         9-Sep-16   \n",
       "...                                       ...      ...              ...   \n",
       "6218                  Talking Tom and Friends  TV Show   April 10, 2019   \n",
       "6219                       Pokémon the Series  TV Show    April 1, 2019   \n",
       "6220                              Justin Time  TV Show    April 1, 2016   \n",
       "6221  Terrace House: Boys & Girls in the City  TV Show    April 1, 2016   \n",
       "6222                                    Weeds  TV Show    April 1, 2014   \n",
       "\n",
       "             country  \n",
       "0      United States  \n",
       "0              India  \n",
       "0        South Korea  \n",
       "0              China  \n",
       "1     United Kingdom  \n",
       "...              ...  \n",
       "6218        Thailand  \n",
       "6219           Japan  \n",
       "6220          Canada  \n",
       "6221           Japan  \n",
       "6222   United States  \n",
       "\n",
       "[7173 rows x 4 columns]"
      ]
     },
     "execution_count": 25,
     "metadata": {},
     "output_type": "execute_result"
    }
   ],
   "source": [
    "#drop rows that do not have a 'date added' value\n",
    "netflix_transformed= netflix_transformed.dropna(subset=['date_added'])\n",
    "print(netflix_transformed.count())\n",
    "netflix_transformed"
   ]
  },
  {
   "cell_type": "code",
   "execution_count": 27,
   "metadata": {},
   "outputs": [
    {
     "data": {
      "text/plain": [
       "title         2296\n",
       "type          2296\n",
       "date_added    2296\n",
       "country       2296\n",
       "dtype: int64"
      ]
     },
     "execution_count": 27,
     "metadata": {},
     "output_type": "execute_result"
    }
   ],
   "source": [
    "##\n",
    "netflix_transformed_US = netflix_transformed.loc[(netflix_transformed[\"country\"]==\"United States\")]\n",
    "netflix_transformed_US.count()\n",
    "\n"
   ]
  },
  {
   "cell_type": "code",
   "execution_count": 28,
   "metadata": {},
   "outputs": [
    {
     "data": {
      "text/plain": [
       "title         206\n",
       "type          206\n",
       "date_added    206\n",
       "country       206\n",
       "dtype: int64"
      ]
     },
     "execution_count": 28,
     "metadata": {},
     "output_type": "execute_result"
    }
   ],
   "source": [
    "netflix_transformed_CA = netflix_transformed.loc[(netflix_transformed[\"country\"]== \"Canada\")]\n",
    "netflix_transformed_CA.count()"
   ]
  },
  {
   "cell_type": "code",
   "execution_count": null,
   "metadata": {},
   "outputs": [],
   "source": [
    "# Len_netflix=len(netflix_transformed[4])\n",
    "# print(Len_netflix)"
   ]
  },
  {
   "cell_type": "code",
   "execution_count": null,
   "metadata": {},
   "outputs": [],
   "source": [
    "# Create a loop for the single entries\n",
    "# capturelist=[]\n",
    "# for x in range(len(netflix_transformed)):\n",
    "#     print((netflix_transformed[x])\n",
    "#     if len((netflix_transformed[\"country\"])[x])== 1:\n",
    "#         capturelist.append((netflix_transformed[\"title\"],netflix_transformed[\"type\"],netflix_transformed[\"date_added\"],((netflix_transformed[\"country\"])[x])))\n",
    "#     else:\n",
    "#         # Create an inner loop for lists within the csv1\n",
    "#         for y in (netflix_transformed[\"country\"])[x]:\n",
    "#             capturelist.append(csv1[x][y])\n",
    "\n",
    "print(capturelist)"
   ]
  },
  {
   "cell_type": "code",
   "execution_count": null,
   "metadata": {},
   "outputs": [],
   "source": [
    "# countries = netflix_df[\"country\"],netflix_df[\"country2\"],netflix_df[\"country3\"],netflix_df[\"country4\"],\\\n",
    "#              netflix_df[\"country5\"],netflix_df[\"country6\"],netflix_df[\"country7\"],netflix_df[\"country8\"],\\\n",
    "#              netflix_df[\"country9\"],netflix_df[\"country10\"],netflix_df[\"country11\"],netflix_df[\"country12\"]\n",
    "\n",
    "# for a in netflix_df:\n",
    "#     if netflix_df[\"country\"]!= \"United States\":\n",
    "#         for b in netflix_df:\n",
    "#             if netflix_df[\"country2\"]!= \"United States\":\n",
    "#                 for c in netflix_df:\n",
    "#                     if netflix_df[\"country3\"]!= \"United States\":\n",
    "#                         for c in netflix_df:\n",
    "#                             if netflix_df[\"country4\"]!= \"United States\":\n",
    "#                                 for d in netflix_df:\n",
    "#                                     if netflix_df[\"country5\"]!= \"United States\":\n",
    "#                                         for e in netflix_df:\n",
    "#                                             if netflix_df[\"country6\"]!= \"United States\":\n",
    "#                                                 for f in netflix_df:\n",
    "#                                                     if netflix_df[\"country7\"]!= \"United States\":\n",
    "#                                                         for g in netflix_df:\n",
    "#                                                             if netflix_df[\"country8\"]!= \"United States\":\n",
    "#                                                                 for h in netflix_df:\n",
    "#                                                                     if netflix_df[\"country9\"]!= \"United States\":\n",
    "#                                                                         for i in netflix_df:\n",
    "#                                                                             if netflix_df[\"country10\"]!= \"United States\":\n",
    "#                                                                                 for j in netflix_df:\n",
    "#                                                                                     if netflix_df[\"country11\"]!= \"United States\":\n",
    "#                                                                                         for k in netflix_df:\n",
    "#                                                                                             if netflix_df[\"country11\"]!= \"United States\":\n",
    "#                                                                                                 netlix_df.drop()"
   ]
  },
  {
   "cell_type": "code",
   "execution_count": null,
   "metadata": {},
   "outputs": [],
   "source": []
  },
  {
   "cell_type": "code",
   "execution_count": null,
   "metadata": {},
   "outputs": [],
   "source": [
    "netflix_df = pd.read_csv(netflix_file)\n",
    "netflix_df.head()"
   ]
  },
  {
   "cell_type": "code",
   "execution_count": null,
   "metadata": {},
   "outputs": [],
   "source": []
  }
 ],
 "metadata": {
  "kernelspec": {
   "display_name": "Python 3",
   "language": "python",
   "name": "python3"
  },
  "language_info": {
   "codemirror_mode": {
    "name": "ipython",
    "version": 3
   },
   "file_extension": ".py",
   "mimetype": "text/x-python",
   "name": "python",
   "nbconvert_exporter": "python",
   "pygments_lexer": "ipython3",
   "version": "3.8.3"
  }
 },
 "nbformat": 4,
 "nbformat_minor": 4
}
