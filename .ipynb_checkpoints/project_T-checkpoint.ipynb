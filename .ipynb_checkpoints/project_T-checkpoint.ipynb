{
 "cells": [
  {
   "cell_type": "code",
   "execution_count": 1,
   "metadata": {},
   "outputs": [],
   "source": [
    "import matplotlib.pyplot as plt\n",
    "import csv\n",
    "import pandas as pd\n",
    "from sqlalchemy import create_engine"
   ]
  },
  {
   "cell_type": "code",
   "execution_count": 2,
   "metadata": {
    "scrolled": true
   },
   "outputs": [
    {
     "data": {
      "text/plain": [
       "title         6234\n",
       "type          6234\n",
       "date_added    6223\n",
       "country       5758\n",
       "dtype: int64"
      ]
     },
     "execution_count": 2,
     "metadata": {},
     "output_type": "execute_result"
    }
   ],
   "source": [
    "#read in dataset\n",
    "netflix_file = \"../ETL_Project/netflix_titles.csv\"\n",
    "netflix_df = pd.read_csv(netflix_file)\n",
    "\n",
    "#removed unnecessary columns\n",
    "netflix_col=[\"title\", \"type\", \"date_added\", \"country\"]\n",
    "netflix_transformed=netflix_df[netflix_col].copy()\n",
    "\n",
    "#count of values in the columns\n",
    "netflix_transformed.count()"
   ]
  },
  {
   "cell_type": "code",
   "execution_count": 3,
   "metadata": {},
   "outputs": [
    {
     "data": {
      "text/plain": [
       "title         5758\n",
       "type          5758\n",
       "date_added    5749\n",
       "country       5758\n",
       "dtype: int64"
      ]
     },
     "execution_count": 3,
     "metadata": {},
     "output_type": "execute_result"
    }
   ],
   "source": [
    "#drop rows that do not have a 'country' value\n",
    "netflix_transformed= netflix_transformed.dropna(subset=['country'])\n",
    "netflix_transformed.count()"
   ]
  },
  {
   "cell_type": "code",
   "execution_count": 4,
   "metadata": {},
   "outputs": [
    {
     "data": {
      "text/plain": [
       "title         5749\n",
       "type          5749\n",
       "date_added    5749\n",
       "country       5749\n",
       "dtype: int64"
      ]
     },
     "execution_count": 4,
     "metadata": {},
     "output_type": "execute_result"
    }
   ],
   "source": [
    "#drop rows that do not have a 'date added' value\n",
    "netflix_transformed= netflix_transformed.dropna(subset=['date_added'])\n",
    "netflix_transformed.count()"
   ]
  },
  {
   "cell_type": "code",
   "execution_count": 16,
   "metadata": {},
   "outputs": [],
   "source": [
    "#\n",
    "capturelist=[]\n",
    "for index, row in netflix_transformed.iterrows():\n",
    "     for i in range(len(row['country'])):\n",
    "            if range(len(row['country'])) ==1:\n",
    "                capturelist.append(row)\n",
    "        \n",
    "        \n",
    "#if len((netflix_transformed[\"country\"])[x])== 1:"
   ]
  },
  {
   "cell_type": "code",
   "execution_count": 17,
   "metadata": {},
   "outputs": [
    {
     "name": "stdout",
     "output_type": "stream",
     "text": [
      "[]\n"
     ]
    }
   ],
   "source": [
    "print(capturelist)\n",
    "\n",
    "# Len_netflix=len(netflix_transformed[4])\n",
    "# print(Len_netflix)"
   ]
  },
  {
   "cell_type": "code",
   "execution_count": null,
   "metadata": {},
   "outputs": [],
   "source": [
    "# Create a loop for the single entries\n",
    "# capturelist=[]\n",
    "# for x in range(len(netflix_transformed)):\n",
    "#     print((netflix_transformed[x])\n",
    "#     if len((netflix_transformed[\"country\"])[x])== 1:\n",
    "#         capturelist.append((netflix_transformed[\"title\"],netflix_transformed[\"type\"],netflix_transformed[\"date_added\"],((netflix_transformed[\"country\"])[x])))\n",
    "#     else:\n",
    "#         # Create an inner loop for lists within the csv1\n",
    "#         for y in (netflix_transformed[\"country\"])[x]:\n",
    "#             capturelist.append(csv1[x][y])\n",
    "\n",
    "print(capturelist)"
   ]
  },
  {
   "cell_type": "code",
   "execution_count": null,
   "metadata": {},
   "outputs": [],
   "source": [
    "# countries = netflix_df[\"country\"],netflix_df[\"country2\"],netflix_df[\"country3\"],netflix_df[\"country4\"],\\\n",
    "#              netflix_df[\"country5\"],netflix_df[\"country6\"],netflix_df[\"country7\"],netflix_df[\"country8\"],\\\n",
    "#              netflix_df[\"country9\"],netflix_df[\"country10\"],netflix_df[\"country11\"],netflix_df[\"country12\"]\n",
    "\n",
    "# for a in netflix_df:\n",
    "#     if netflix_df[\"country\"]!= \"United States\":\n",
    "#         for b in netflix_df:\n",
    "#             if netflix_df[\"country2\"]!= \"United States\":\n",
    "#                 for c in netflix_df:\n",
    "#                     if netflix_df[\"country3\"]!= \"United States\":\n",
    "#                         for c in netflix_df:\n",
    "#                             if netflix_df[\"country4\"]!= \"United States\":\n",
    "#                                 for d in netflix_df:\n",
    "#                                     if netflix_df[\"country5\"]!= \"United States\":\n",
    "#                                         for e in netflix_df:\n",
    "#                                             if netflix_df[\"country6\"]!= \"United States\":\n",
    "#                                                 for f in netflix_df:\n",
    "#                                                     if netflix_df[\"country7\"]!= \"United States\":\n",
    "#                                                         for g in netflix_df:\n",
    "#                                                             if netflix_df[\"country8\"]!= \"United States\":\n",
    "#                                                                 for h in netflix_df:\n",
    "#                                                                     if netflix_df[\"country9\"]!= \"United States\":\n",
    "#                                                                         for i in netflix_df:\n",
    "#                                                                             if netflix_df[\"country10\"]!= \"United States\":\n",
    "#                                                                                 for j in netflix_df:\n",
    "#                                                                                     if netflix_df[\"country11\"]!= \"United States\":\n",
    "#                                                                                         for k in netflix_df:\n",
    "#                                                                                             if netflix_df[\"country11\"]!= \"United States\":\n",
    "#                                                                                                 netlix_df.drop()"
   ]
  },
  {
   "cell_type": "code",
   "execution_count": null,
   "metadata": {},
   "outputs": [],
   "source": []
  },
  {
   "cell_type": "code",
   "execution_count": null,
   "metadata": {},
   "outputs": [],
   "source": [
    "netflix_df = pd.read_csv(netflix_file)\n",
    "netflix_df.head()"
   ]
  },
  {
   "cell_type": "code",
   "execution_count": null,
   "metadata": {},
   "outputs": [],
   "source": []
  }
 ],
 "metadata": {
  "kernelspec": {
   "display_name": "Python 3",
   "language": "python",
   "name": "python3"
  },
  "language_info": {
   "codemirror_mode": {
    "name": "ipython",
    "version": 3
   },
   "file_extension": ".py",
   "mimetype": "text/x-python",
   "name": "python",
   "nbconvert_exporter": "python",
   "pygments_lexer": "ipython3",
   "version": "3.8.3"
  }
 },
 "nbformat": 4,
 "nbformat_minor": 4
}
