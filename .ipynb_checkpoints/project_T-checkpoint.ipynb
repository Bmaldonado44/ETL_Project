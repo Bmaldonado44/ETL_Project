{
 "cells": [
  {
   "cell_type": "code",
   "execution_count": 1,
   "metadata": {},
   "outputs": [],
   "source": [
    "import matplotlib.pyplot as plt\n",
    "import csv\n",
    "import pandas as pd\n",
    "from sqlalchemy import create_engine\n",
    "import io\n",
    "from io import StringIO\n",
    "from datetime import datetime as dt"
   ]
  },
  {
   "cell_type": "code",
   "execution_count": 2,
   "metadata": {
    "scrolled": true
   },
   "outputs": [],
   "source": [
    "#path to csv file\n",
    "netflix_file = \"../ETL_Project/netflix_titles.csv\"\n",
    "\n",
    "#Read in csv file  \n",
    "netflix_df = pd.read_csv(netflix_file)\n",
    "\n",
    "#split rows that have multiple countries in a single row and stack them into the a new df\n",
    "netflix_df_2 = netflix_df.country.str.split(',').apply(pd.Series, 1).stack()\n",
    "\n",
    "#drop the index from intial df and join both dfs\n",
    "netflix_df_2.index = netflix_df_2.index.droplevel(-1)\n",
    "netflix_df_2.name = 'country'\n",
    "del netflix_df['country']\n",
    "netflix_df = netflix_df.join(netflix_df_2)"
   ]
  },
  {
   "cell_type": "code",
   "execution_count": 3,
   "metadata": {},
   "outputs": [
    {
     "data": {
      "text/plain": [
       "title         7658\n",
       "type          7658\n",
       "date_added    7647\n",
       "country       7182\n",
       "dtype: int64"
      ]
     },
     "execution_count": 3,
     "metadata": {},
     "output_type": "execute_result"
    }
   ],
   "source": [
    "#removed unnecessary columns\n",
    "netflix_col=[\"title\", \"type\", \"date_added\", \"country\", \"rating\"]\n",
    "netflix_transformed=netflix_df[netflix_col].copy()\n",
    "\n",
    "#count of values in the columns\n",
    "netflix_transformed.count()\n"
   ]
  },
  {
   "cell_type": "code",
   "execution_count": 4,
   "metadata": {},
   "outputs": [
    {
     "data": {
      "text/plain": [
       "title         7182\n",
       "type          7182\n",
       "date_added    7173\n",
       "country       7182\n",
       "dtype: int64"
      ]
     },
     "execution_count": 4,
     "metadata": {},
     "output_type": "execute_result"
    }
   ],
   "source": [
    "#drop rows that do not have a value in 'country' column\n",
    "netflix_transformed= netflix_transformed.dropna(subset=['country'])\n",
    "netflix_transformed.count()"
   ]
  },
  {
   "cell_type": "code",
   "execution_count": 5,
   "metadata": {},
   "outputs": [
    {
     "name": "stdout",
     "output_type": "stream",
     "text": [
      "title         7173\n",
      "type          7173\n",
      "date_added    7173\n",
      "country       7173\n",
      "dtype: int64\n"
     ]
    },
    {
     "data": {
      "text/html": [
       "<div>\n",
       "<style scoped>\n",
       "    .dataframe tbody tr th:only-of-type {\n",
       "        vertical-align: middle;\n",
       "    }\n",
       "\n",
       "    .dataframe tbody tr th {\n",
       "        vertical-align: top;\n",
       "    }\n",
       "\n",
       "    .dataframe thead th {\n",
       "        text-align: right;\n",
       "    }\n",
       "</style>\n",
       "<table border=\"1\" class=\"dataframe\">\n",
       "  <thead>\n",
       "    <tr style=\"text-align: right;\">\n",
       "      <th></th>\n",
       "      <th>title</th>\n",
       "      <th>type</th>\n",
       "      <th>date_added</th>\n",
       "      <th>country</th>\n",
       "    </tr>\n",
       "  </thead>\n",
       "  <tbody>\n",
       "    <tr>\n",
       "      <th>0</th>\n",
       "      <td>Norm of the North: King Sized Adventure</td>\n",
       "      <td>Movie</td>\n",
       "      <td>9-Sep-19</td>\n",
       "      <td>United States</td>\n",
       "    </tr>\n",
       "    <tr>\n",
       "      <th>0</th>\n",
       "      <td>Norm of the North: King Sized Adventure</td>\n",
       "      <td>Movie</td>\n",
       "      <td>9-Sep-19</td>\n",
       "      <td>India</td>\n",
       "    </tr>\n",
       "    <tr>\n",
       "      <th>0</th>\n",
       "      <td>Norm of the North: King Sized Adventure</td>\n",
       "      <td>Movie</td>\n",
       "      <td>9-Sep-19</td>\n",
       "      <td>South Korea</td>\n",
       "    </tr>\n",
       "    <tr>\n",
       "      <th>0</th>\n",
       "      <td>Norm of the North: King Sized Adventure</td>\n",
       "      <td>Movie</td>\n",
       "      <td>9-Sep-19</td>\n",
       "      <td>China</td>\n",
       "    </tr>\n",
       "    <tr>\n",
       "      <th>1</th>\n",
       "      <td>Jandino: Whatever it Takes</td>\n",
       "      <td>Movie</td>\n",
       "      <td>9-Sep-16</td>\n",
       "      <td>United Kingdom</td>\n",
       "    </tr>\n",
       "    <tr>\n",
       "      <th>...</th>\n",
       "      <td>...</td>\n",
       "      <td>...</td>\n",
       "      <td>...</td>\n",
       "      <td>...</td>\n",
       "    </tr>\n",
       "    <tr>\n",
       "      <th>6218</th>\n",
       "      <td>Talking Tom and Friends</td>\n",
       "      <td>TV Show</td>\n",
       "      <td>April 10, 2019</td>\n",
       "      <td>Thailand</td>\n",
       "    </tr>\n",
       "    <tr>\n",
       "      <th>6219</th>\n",
       "      <td>Pokémon the Series</td>\n",
       "      <td>TV Show</td>\n",
       "      <td>April 1, 2019</td>\n",
       "      <td>Japan</td>\n",
       "    </tr>\n",
       "    <tr>\n",
       "      <th>6220</th>\n",
       "      <td>Justin Time</td>\n",
       "      <td>TV Show</td>\n",
       "      <td>April 1, 2016</td>\n",
       "      <td>Canada</td>\n",
       "    </tr>\n",
       "    <tr>\n",
       "      <th>6221</th>\n",
       "      <td>Terrace House: Boys &amp; Girls in the City</td>\n",
       "      <td>TV Show</td>\n",
       "      <td>April 1, 2016</td>\n",
       "      <td>Japan</td>\n",
       "    </tr>\n",
       "    <tr>\n",
       "      <th>6222</th>\n",
       "      <td>Weeds</td>\n",
       "      <td>TV Show</td>\n",
       "      <td>April 1, 2014</td>\n",
       "      <td>United States</td>\n",
       "    </tr>\n",
       "  </tbody>\n",
       "</table>\n",
       "<p>7173 rows × 4 columns</p>\n",
       "</div>"
      ],
      "text/plain": [
       "                                        title     type       date_added  \\\n",
       "0     Norm of the North: King Sized Adventure    Movie         9-Sep-19   \n",
       "0     Norm of the North: King Sized Adventure    Movie         9-Sep-19   \n",
       "0     Norm of the North: King Sized Adventure    Movie         9-Sep-19   \n",
       "0     Norm of the North: King Sized Adventure    Movie         9-Sep-19   \n",
       "1                  Jandino: Whatever it Takes    Movie         9-Sep-16   \n",
       "...                                       ...      ...              ...   \n",
       "6218                  Talking Tom and Friends  TV Show   April 10, 2019   \n",
       "6219                       Pokémon the Series  TV Show    April 1, 2019   \n",
       "6220                              Justin Time  TV Show    April 1, 2016   \n",
       "6221  Terrace House: Boys & Girls in the City  TV Show    April 1, 2016   \n",
       "6222                                    Weeds  TV Show    April 1, 2014   \n",
       "\n",
       "             country  \n",
       "0      United States  \n",
       "0              India  \n",
       "0        South Korea  \n",
       "0              China  \n",
       "1     United Kingdom  \n",
       "...              ...  \n",
       "6218        Thailand  \n",
       "6219           Japan  \n",
       "6220          Canada  \n",
       "6221           Japan  \n",
       "6222   United States  \n",
       "\n",
       "[7173 rows x 4 columns]"
      ]
     },
     "execution_count": 5,
     "metadata": {},
     "output_type": "execute_result"
    }
   ],
   "source": [
    "#drop rows that do not have a value in 'date added' column\n",
    "netflix_transformed= netflix_transformed.dropna(subset=['date_added'])\n",
    "print(netflix_transformed.count())\n",
    "\n",
    "#view the df\n",
    "netflix_transformed"
   ]
  },
  {
   "cell_type": "code",
   "execution_count": 6,
   "metadata": {},
   "outputs": [
    {
     "data": {
      "text/plain": [
       "title         2296\n",
       "type          2296\n",
       "date_added    2296\n",
       "country       2296\n",
       "dtype: int64"
      ]
     },
     "execution_count": 6,
     "metadata": {},
     "output_type": "execute_result"
    }
   ],
   "source": [
    "#extract rows that have \"United States\" in the 'country' column\n",
    "netflix_transformed_US = netflix_transformed.loc[(netflix_transformed[\"country\"]==\"United States\")]\n",
    "netflix_transformed_US.count()\n",
    "\n"
   ]
  },
  {
   "cell_type": "code",
   "execution_count": 7,
   "metadata": {},
   "outputs": [
    {
     "data": {
      "text/plain": [
       "title         206\n",
       "type          206\n",
       "date_added    206\n",
       "country       206\n",
       "dtype: int64"
      ]
     },
     "execution_count": 7,
     "metadata": {},
     "output_type": "execute_result"
    }
   ],
   "source": [
    "#extract rows that have \"Canada\" in the 'country' column\n",
    "netflix_transformed_CA = netflix_transformed.loc[(netflix_transformed[\"country\"]== \"Canada\")]\n",
    "netflix_transformed_CA.count()"
   ]
  },
  {
   "cell_type": "code",
   "execution_count": 13,
   "metadata": {
    "scrolled": true
   },
   "outputs": [
    {
     "name": "stdout",
     "output_type": "stream",
     "text": [
      "                                        title     type       date_added  \\\n",
      "0     Norm of the North: King Sized Adventure    Movie         9-Sep-19   \n",
      "2                          Transformers Prime  TV Show         8-Sep-18   \n",
      "3            Transformers: Robots in Disguise  TV Show         8-Sep-18   \n",
      "4                                #realityhigh    Movie         8-Sep-17   \n",
      "8                                Fire Chasers  TV Show         8-Sep-17   \n",
      "...                                       ...      ...              ...   \n",
      "6188             Roman Empire: Reign of Blood  TV Show    April 5, 2019   \n",
      "6192                        Kim's Convenience  TV Show    April 3, 2019   \n",
      "6208                                Lost Girl  TV Show   April 17, 2016   \n",
      "6209                                Mr. Young  TV Show   April 16, 2019   \n",
      "6220                              Justin Time  TV Show    April 1, 2016   \n",
      "\n",
      "            country  \n",
      "0     United States  \n",
      "2     United States  \n",
      "3     United States  \n",
      "4     United States  \n",
      "8     United States  \n",
      "...             ...  \n",
      "6188         Canada  \n",
      "6192         Canada  \n",
      "6208         Canada  \n",
      "6209         Canada  \n",
      "6220         Canada  \n",
      "\n",
      "[2502 rows x 4 columns]\n",
      "title         2502\n",
      "type          2502\n",
      "date_added    2502\n",
      "country       2502\n",
      "dtype: int64\n"
     ]
    }
   ],
   "source": [
    "#####Method 1 ######\n",
    "# join the United States and Canada dfs\n",
    "#netflix_transformed = pd.concat([netflix_transformed_US, netflix_transformed_CA], axis=0,join=\"inner\")\n",
    "# print(netflix_transformed.count())\n",
    "\n",
    "#####Method 2 ######\n",
    "#join the United States and Canada dfs\n",
    "#netflix_transformed = pd.merge(netflix_transformed_US, netflix_transformed_CA, on=[\"title\", \"title\"], how=\"outer\")\n",
    "#view the df\n",
    "#print(netflix_transformed)\n",
    "#print(netflix_transformed.count())\n",
    "\n",
    "#######Method 3 #######\n",
    "#join the United States and Canada dfs\n",
    "netflix_transformed = netflix_transformed_US.append(netflix_transformed_CA)\n",
    "print(netflix_transformed)\n",
    "print(netflix_transformed.count())"
   ]
  },
  {
   "cell_type": "code",
   "execution_count": 14,
   "metadata": {},
   "outputs": [
    {
     "name": "stdout",
     "output_type": "stream",
     "text": [
      "                                        title     type       date_added  \\\n",
      "0     Norm of the North: King Sized Adventure    Movie         9-Sep-19   \n",
      "2                          Transformers Prime  TV Show         8-Sep-18   \n",
      "3            Transformers: Robots in Disguise  TV Show         8-Sep-18   \n",
      "4                                #realityhigh    Movie         8-Sep-17   \n",
      "8                                Fire Chasers  TV Show         8-Sep-17   \n",
      "...                                       ...      ...              ...   \n",
      "6188             Roman Empire: Reign of Blood  TV Show    April 5, 2019   \n",
      "6192                        Kim's Convenience  TV Show    April 3, 2019   \n",
      "6208                                Lost Girl  TV Show   April 17, 2016   \n",
      "6209                                Mr. Young  TV Show   April 16, 2019   \n",
      "6220                              Justin Time  TV Show    April 1, 2016   \n",
      "\n",
      "            country  \n",
      "0     United States  \n",
      "2     United States  \n",
      "3     United States  \n",
      "4     United States  \n",
      "8     United States  \n",
      "...             ...  \n",
      "6188         Canada  \n",
      "6192         Canada  \n",
      "6208         Canada  \n",
      "6209         Canada  \n",
      "6220         Canada  \n",
      "\n",
      "[2502 rows x 4 columns]\n"
     ]
    }
   ],
   "source": [
    "# drop duplicated indexes\n",
    "netflix_transformed.drop_duplicates(keep='first')\n",
    "\n",
    "\n",
    "#view the df\n",
    "print(netflix_transformed)"
   ]
  },
  {
   "cell_type": "code",
   "execution_count": 17,
   "metadata": {},
   "outputs": [
    {
     "data": {
      "text/plain": [
       "0       False\n",
       "2       False\n",
       "3       False\n",
       "4       False\n",
       "8       False\n",
       "        ...  \n",
       "6188    False\n",
       "6192    False\n",
       "6208    False\n",
       "6209    False\n",
       "6220    False\n",
       "Length: 2502, dtype: bool"
      ]
     },
     "execution_count": 17,
     "metadata": {},
     "output_type": "execute_result"
    }
   ],
   "source": [
    "# check for duplicated in Movie titles\n",
    "netflix_transformed_dups = netflix_transformed.duplicated(subset=['title'])\n",
    "netflix_transformed_dups"
   ]
  },
  {
   "cell_type": "code",
   "execution_count": 19,
   "metadata": {},
   "outputs": [
    {
     "data": {
      "text/plain": [
       "9"
      ]
     },
     "execution_count": 19,
     "metadata": {},
     "output_type": "execute_result"
    }
   ],
   "source": [
    "#count of duplicates found\n",
    "netflix_transformed_dups.loc[(netflix_transformed_dups == True)].count()"
   ]
  },
  {
   "cell_type": "code",
   "execution_count": 20,
   "metadata": {},
   "outputs": [
    {
     "data": {
      "text/html": [
       "<div>\n",
       "<style scoped>\n",
       "    .dataframe tbody tr th:only-of-type {\n",
       "        vertical-align: middle;\n",
       "    }\n",
       "\n",
       "    .dataframe tbody tr th {\n",
       "        vertical-align: top;\n",
       "    }\n",
       "\n",
       "    .dataframe thead th {\n",
       "        text-align: right;\n",
       "    }\n",
       "</style>\n",
       "<table border=\"1\" class=\"dataframe\">\n",
       "  <thead>\n",
       "    <tr style=\"text-align: right;\">\n",
       "      <th></th>\n",
       "      <th>title</th>\n",
       "      <th>type</th>\n",
       "      <th>date_added</th>\n",
       "      <th>country</th>\n",
       "    </tr>\n",
       "  </thead>\n",
       "  <tbody>\n",
       "    <tr>\n",
       "      <th>0</th>\n",
       "      <td>Norm of the North: King Sized Adventure</td>\n",
       "      <td>Movie</td>\n",
       "      <td>9-Sep-19</td>\n",
       "      <td>United States</td>\n",
       "    </tr>\n",
       "    <tr>\n",
       "      <th>2</th>\n",
       "      <td>Transformers Prime</td>\n",
       "      <td>TV Show</td>\n",
       "      <td>8-Sep-18</td>\n",
       "      <td>United States</td>\n",
       "    </tr>\n",
       "    <tr>\n",
       "      <th>3</th>\n",
       "      <td>Transformers: Robots in Disguise</td>\n",
       "      <td>TV Show</td>\n",
       "      <td>8-Sep-18</td>\n",
       "      <td>United States</td>\n",
       "    </tr>\n",
       "    <tr>\n",
       "      <th>4</th>\n",
       "      <td>#realityhigh</td>\n",
       "      <td>Movie</td>\n",
       "      <td>8-Sep-17</td>\n",
       "      <td>United States</td>\n",
       "    </tr>\n",
       "    <tr>\n",
       "      <th>8</th>\n",
       "      <td>Fire Chasers</td>\n",
       "      <td>TV Show</td>\n",
       "      <td>8-Sep-17</td>\n",
       "      <td>United States</td>\n",
       "    </tr>\n",
       "    <tr>\n",
       "      <th>...</th>\n",
       "      <td>...</td>\n",
       "      <td>...</td>\n",
       "      <td>...</td>\n",
       "      <td>...</td>\n",
       "    </tr>\n",
       "    <tr>\n",
       "      <th>6188</th>\n",
       "      <td>Roman Empire: Reign of Blood</td>\n",
       "      <td>TV Show</td>\n",
       "      <td>April 5, 2019</td>\n",
       "      <td>Canada</td>\n",
       "    </tr>\n",
       "    <tr>\n",
       "      <th>6192</th>\n",
       "      <td>Kim's Convenience</td>\n",
       "      <td>TV Show</td>\n",
       "      <td>April 3, 2019</td>\n",
       "      <td>Canada</td>\n",
       "    </tr>\n",
       "    <tr>\n",
       "      <th>6208</th>\n",
       "      <td>Lost Girl</td>\n",
       "      <td>TV Show</td>\n",
       "      <td>April 17, 2016</td>\n",
       "      <td>Canada</td>\n",
       "    </tr>\n",
       "    <tr>\n",
       "      <th>6209</th>\n",
       "      <td>Mr. Young</td>\n",
       "      <td>TV Show</td>\n",
       "      <td>April 16, 2019</td>\n",
       "      <td>Canada</td>\n",
       "    </tr>\n",
       "    <tr>\n",
       "      <th>6220</th>\n",
       "      <td>Justin Time</td>\n",
       "      <td>TV Show</td>\n",
       "      <td>April 1, 2016</td>\n",
       "      <td>Canada</td>\n",
       "    </tr>\n",
       "  </tbody>\n",
       "</table>\n",
       "<p>2493 rows × 4 columns</p>\n",
       "</div>"
      ],
      "text/plain": [
       "                                        title     type       date_added  \\\n",
       "0     Norm of the North: King Sized Adventure    Movie         9-Sep-19   \n",
       "2                          Transformers Prime  TV Show         8-Sep-18   \n",
       "3            Transformers: Robots in Disguise  TV Show         8-Sep-18   \n",
       "4                                #realityhigh    Movie         8-Sep-17   \n",
       "8                                Fire Chasers  TV Show         8-Sep-17   \n",
       "...                                       ...      ...              ...   \n",
       "6188             Roman Empire: Reign of Blood  TV Show    April 5, 2019   \n",
       "6192                        Kim's Convenience  TV Show    April 3, 2019   \n",
       "6208                                Lost Girl  TV Show   April 17, 2016   \n",
       "6209                                Mr. Young  TV Show   April 16, 2019   \n",
       "6220                              Justin Time  TV Show    April 1, 2016   \n",
       "\n",
       "            country  \n",
       "0     United States  \n",
       "2     United States  \n",
       "3     United States  \n",
       "4     United States  \n",
       "8     United States  \n",
       "...             ...  \n",
       "6188         Canada  \n",
       "6192         Canada  \n",
       "6208         Canada  \n",
       "6209         Canada  \n",
       "6220         Canada  \n",
       "\n",
       "[2493 rows x 4 columns]"
      ]
     },
     "execution_count": 20,
     "metadata": {},
     "output_type": "execute_result"
    }
   ],
   "source": [
    "# Drop rows with Duplicate Movie title\n",
    "cleaned_netflix_transformed = netflix_transformed.drop_duplicates(subset=[\"title\"], keep='last')\n",
    "cleaned_netflix_transformed"
   ]
  },
  {
   "cell_type": "code",
   "execution_count": null,
   "metadata": {},
   "outputs": [],
   "source": [
    "sub_file = \"../ETL_Project/DataNetflixSubscriber.csv\"\n",
    "sub_df = pd.read_csv(sub_file)\n",
    "sub_df.head()"
   ]
  },
  {
   "cell_type": "code",
   "execution_count": null,
   "metadata": {},
   "outputs": [],
   "source": [
    "cleaned_netflix_transformed = cleaned_netflix_transformed.rename(columns={\"date_added\": \"Years\", \"type\": \"Category\",})\n",
    "\n",
    "print(cleaned_netflix_transformed)"
   ]
  },
  {
   "cell_type": "code",
   "execution_count": null,
   "metadata": {},
   "outputs": [],
   "source": [
    "# convert the 'Years' column to datetime format\n",
    "cleaned_netflix_transformed[\"Years\"]=pd.to_datetime(cleaned_netflix_transformed['Years'])\n",
    "\n",
    "cleaned_netflix_transformed.info()"
   ]
  },
  {
   "cell_type": "code",
   "execution_count": null,
   "metadata": {},
   "outputs": [],
   "source": [
    "#Using Years\n",
    "cleaned_netflix_transformed[\"Years\"]=cleaned_netflix_transformed[\"Years\"].dt.strftime(\"%Y\")\n",
    "\n",
    "cleaned_netflix_transformed.head()"
   ]
  },
  {
   "cell_type": "code",
   "execution_count": null,
   "metadata": {},
   "outputs": [],
   "source": [
    "#filtered dataframe from specific columns\n",
    "sub_col=[\"Area\",\"Years\",\"Subscribers\"]\n",
    "sub_transformed= sub_df[sub_col].copy()\n",
    "print(sub_transformed)"
   ]
  },
  {
   "cell_type": "code",
   "execution_count": null,
   "metadata": {},
   "outputs": [],
   "source": [
    "year_sub=sub_transformed[\"Years\"].str.split(\" - \").str[1]\n",
    "sub_transformed[\"Years\"]=sub_transformed[\"Years\"].str.split(\" - \").str[1]\n",
    "sub_transformed"
   ]
  },
  {
   "cell_type": "code",
   "execution_count": null,
   "metadata": {},
   "outputs": [],
   "source": [
    "#filtering using just United States and Canada\n",
    "\n",
    "country=sub_transformed.loc[(sub_transformed[\"Area\"]==\"United States and Canada\")].dropna\n",
    "country()"
   ]
  },
  {
   "cell_type": "code",
   "execution_count": null,
   "metadata": {},
   "outputs": [],
   "source": [
    "#database connection\n",
    "connection_string =\"postgres:********@localhost:5432/Netflix\"\n",
    "engine = create_engine(f'postgresql://{connection_string}')"
   ]
  },
  {
   "cell_type": "code",
   "execution_count": null,
   "metadata": {},
   "outputs": [],
   "source": [
    "engine.table_names()"
   ]
  },
  {
   "cell_type": "code",
   "execution_count": null,
   "metadata": {},
   "outputs": [],
   "source": [
    "### Load DataFrames into database\n",
    "cleaned_netflix_transformed.to_sql(name='netflix', con=engine, if_exists='append', index=True)\n",
    "sub_transformed.to_sql(name='Subscribers', con=engine, if_exists='append', index=True)"
   ]
  },
  {
   "cell_type": "code",
   "execution_count": null,
   "metadata": {},
   "outputs": [],
   "source": [
    "#Query confirmed through SQL database for neflix \n",
    "\n",
    "\n",
    "pd.read_sql_query('select * from netflix', con=engine).head()"
   ]
  },
  {
   "cell_type": "code",
   "execution_count": null,
   "metadata": {},
   "outputs": [],
   "source": [
    "#Query confirmed through SQL database for Netflix subscribers\n",
    "\n",
    "pd.read_sql_query('select * from Subscribers', con=engine).head()"
   ]
  },
  {
   "cell_type": "code",
   "execution_count": null,
   "metadata": {},
   "outputs": [],
   "source": [
    "#The numbers of subscribers \n",
    "num_sub =sub_transformed.groupby(\"Years\")\n",
    "num_sub"
   ]
  },
  {
   "cell_type": "code",
   "execution_count": null,
   "metadata": {},
   "outputs": [],
   "source": [
    "max_sub = num_sub[\"Subscribers\"].max()\n",
    "max_sub"
   ]
  },
  {
   "cell_type": "code",
   "execution_count": null,
   "metadata": {},
   "outputs": [],
   "source": [
    "sub_df= pd.DataFrame({\"Subscriber Count\": max_sub,})\n",
    "sub_df.head()"
   ]
  },
  {
   "cell_type": "code",
   "execution_count": null,
   "metadata": {},
   "outputs": [],
   "source": [
    "grouped_dm = sub_df.groupby([\"Years\"]).count()[\"Subscriber Count\"]\n",
    "grouped_dm\n",
    "\n",
    "mice_chart= grouped_dm.plot(kind=\"bar\", title= \"What year has the most subsribers\")\n",
    "mice_chart.set_xlabel(\"Years\")\n",
    "mice_chart.set_ylabel(\"Subscriber Count\")\n",
    "#plt.xlim(-0.10, len(x_axis)-.5)\n",
    "#plt.ylim(0, max(sub_df[\"Subscriber Count\"])+10)\n",
    "plt.show()\n",
    "plt.tight_layout()"
   ]
  },
  {
   "cell_type": "code",
   "execution_count": null,
   "metadata": {},
   "outputs": [],
   "source": [
    "gender_count = sub_df.groupby('Years')\n",
    "gender_mouse_count = pd.DataFrame(gender_count['Subscriber Count'].count())\n",
    "gender_mouse_count.head()\n",
    "gender_mouse_count.plot(kind=\"pie\", y='Subscriber Count', autopct=\"%1.1f%%\", colors = [\"lightpink\", \"lightblue\"], shadow=True, legend=False)\n",
    "plt.axis(\"equal\")\n",
    "plt.title(\"Male v. Female Percent\")\n",
    "plt.show()"
   ]
  }
 ],
 "metadata": {
  "kernelspec": {
   "display_name": "Python 3",
   "language": "python",
   "name": "python3"
  },
  "language_info": {
   "codemirror_mode": {
    "name": "ipython",
    "version": 3
   },
   "file_extension": ".py",
   "mimetype": "text/x-python",
   "name": "python",
   "nbconvert_exporter": "python",
   "pygments_lexer": "ipython3",
   "version": "3.8.3"
  }
 },
 "nbformat": 4,
 "nbformat_minor": 4
}
