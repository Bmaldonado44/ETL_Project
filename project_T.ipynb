{
 "cells": [
  {
   "cell_type": "code",
   "execution_count": 20,
   "metadata": {},
   "outputs": [],
   "source": [
    "import matplotlib.pyplot as plt\n",
    "import csv\n",
    "import pandas as pd\n",
    "from sqlalchemy import create_engine"
   ]
  },
  {
   "cell_type": "code",
   "execution_count": 27,
   "metadata": {
    "scrolled": true
   },
   "outputs": [
    {
     "name": "stdout",
     "output_type": "stream",
     "text": [
      "United States, India, South Korea, China\n",
      "United Kingdom\n",
      "United States\n",
      "United States\n",
      "United States\n",
      "Spain\n",
      "Bulgaria, United States, Spain, Canada\n",
      "Chile\n",
      "United States\n",
      "United States, United Kingdom, Denmark, Sweden\n",
      "nan\n"
     ]
    },
    {
     "ename": "TypeError",
     "evalue": "object of type 'float' has no len()",
     "output_type": "error",
     "traceback": [
      "\u001b[1;31m---------------------------------------------------------------------------\u001b[0m",
      "\u001b[1;31mTypeError\u001b[0m                                 Traceback (most recent call last)",
      "\u001b[1;32m<ipython-input-27-d96eb583e649>\u001b[0m in \u001b[0;36m<module>\u001b[1;34m\u001b[0m\n\u001b[0;32m     14\u001b[0m \u001b[1;32mfor\u001b[0m \u001b[0mx\u001b[0m \u001b[1;32min\u001b[0m \u001b[0mrange\u001b[0m \u001b[1;33m(\u001b[0m\u001b[1;36m0\u001b[0m\u001b[1;33m,\u001b[0m \u001b[0mLen_netflix\u001b[0m\u001b[1;33m)\u001b[0m\u001b[1;33m:\u001b[0m\u001b[1;33m\u001b[0m\u001b[1;33m\u001b[0m\u001b[0m\n\u001b[0;32m     15\u001b[0m     \u001b[0mprint\u001b[0m\u001b[1;33m(\u001b[0m\u001b[1;33m(\u001b[0m\u001b[0mnetflix_transformed\u001b[0m\u001b[1;33m[\u001b[0m\u001b[1;34m\"country\"\u001b[0m\u001b[1;33m]\u001b[0m\u001b[1;33m)\u001b[0m\u001b[1;33m[\u001b[0m\u001b[0mx\u001b[0m\u001b[1;33m]\u001b[0m\u001b[1;33m)\u001b[0m\u001b[1;33m\u001b[0m\u001b[1;33m\u001b[0m\u001b[0m\n\u001b[1;32m---> 16\u001b[1;33m     \u001b[1;32mif\u001b[0m \u001b[0mlen\u001b[0m\u001b[1;33m(\u001b[0m\u001b[1;33m(\u001b[0m\u001b[0mnetflix_transformed\u001b[0m\u001b[1;33m[\u001b[0m\u001b[1;34m\"country\"\u001b[0m\u001b[1;33m]\u001b[0m\u001b[1;33m)\u001b[0m\u001b[1;33m[\u001b[0m\u001b[0mx\u001b[0m\u001b[1;33m]\u001b[0m\u001b[1;33m)\u001b[0m \u001b[1;33m==\u001b[0m \u001b[1;36m1\u001b[0m\u001b[1;33m:\u001b[0m\u001b[1;33m\u001b[0m\u001b[1;33m\u001b[0m\u001b[0m\n\u001b[0m\u001b[0;32m     17\u001b[0m         \u001b[0mcapturelist\u001b[0m\u001b[1;33m.\u001b[0m\u001b[0mappend\u001b[0m\u001b[1;33m(\u001b[0m\u001b[0mnetflix_transformed\u001b[0m\u001b[1;33m[\u001b[0m\u001b[1;34m\"title\"\u001b[0m\u001b[1;33m]\u001b[0m\u001b[1;33m,\u001b[0m\u001b[0mnetflix_transformed\u001b[0m\u001b[1;33m[\u001b[0m\u001b[1;34m\"type\"\u001b[0m\u001b[1;33m]\u001b[0m\u001b[1;33m,\u001b[0m\u001b[0mnetflix_transformed\u001b[0m\u001b[1;33m[\u001b[0m\u001b[1;34m\"date_added\"\u001b[0m\u001b[1;33m]\u001b[0m\u001b[1;33m,\u001b[0m\u001b[1;33m(\u001b[0m\u001b[1;33m(\u001b[0m\u001b[0mnetflix_transformed\u001b[0m\u001b[1;33m[\u001b[0m\u001b[1;34m\"country\"\u001b[0m\u001b[1;33m]\u001b[0m\u001b[1;33m)\u001b[0m\u001b[1;33m[\u001b[0m\u001b[0mx\u001b[0m\u001b[1;33m]\u001b[0m\u001b[1;33m)\u001b[0m\u001b[1;33m)\u001b[0m\u001b[1;33m\u001b[0m\u001b[1;33m\u001b[0m\u001b[0m\n\u001b[0;32m     18\u001b[0m \u001b[1;31m#     else:\u001b[0m\u001b[1;33m\u001b[0m\u001b[1;33m\u001b[0m\u001b[1;33m\u001b[0m\u001b[0m\n",
      "\u001b[1;31mTypeError\u001b[0m: object of type 'float' has no len()"
     ]
    }
   ],
   "source": [
    "netflix_file = \"C:/Users/tmlun/Downloads/netflix_titles (1).csv\"\n",
    "netflix_df = pd.read_csv(netflix_file)\n",
    "\n",
    "\n",
    "netflix_col=[\"title\", \"type\", \"date_added\", \"country\"]\n",
    "netflix_transformed=netflix_df[netflix_col].copy()\n",
    "\n",
    "# Create a loop for the single entries\n",
    "\n",
    "Len_netflix=len(netflix_transformed[\"country\"])\n",
    "#print(Len_netflix)\n",
    "\n",
    "capturelist=[]\n",
    "for x in range (0, Len_netflix):\n",
    "    print((netflix_transformed[\"country\"])[x])\n",
    "    if len((netflix_transformed[\"country\"])[x]) == 1:\n",
    "        capturelist.append(netflix_transformed[\"title\"],netflix_transformed[\"type\"],netflix_transformed[\"date_added\"],((netflix_transformed[\"country\"])[x]))\n",
    "#     else:\n",
    "#         # Create an inner loop for lists within the csv1\n",
    "#         for y in (netflix_transformed[\"country\"])[x]:\n",
    "#             capturelist.append(csv1[x][y])\n",
    "\n",
    "print(capturelist)\n"
   ]
  },
  {
   "cell_type": "code",
   "execution_count": 14,
   "metadata": {},
   "outputs": [],
   "source": [
    "# countries = netflix_df[\"country\"],netflix_df[\"country2\"],netflix_df[\"country3\"],netflix_df[\"country4\"],\\\n",
    "#              netflix_df[\"country5\"],netflix_df[\"country6\"],netflix_df[\"country7\"],netflix_df[\"country8\"],\\\n",
    "#              netflix_df[\"country9\"],netflix_df[\"country10\"],netflix_df[\"country11\"],netflix_df[\"country12\"]\n",
    "\n",
    "# for a in netflix_df:\n",
    "#     if netflix_df[\"country\"]!= \"United States\":\n",
    "#         for b in netflix_df:\n",
    "#             if netflix_df[\"country2\"]!= \"United States\":\n",
    "#                 for c in netflix_df:\n",
    "#                     if netflix_df[\"country3\"]!= \"United States\":\n",
    "#                         for c in netflix_df:\n",
    "#                             if netflix_df[\"country4\"]!= \"United States\":\n",
    "#                                 for d in netflix_df:\n",
    "#                                     if netflix_df[\"country5\"]!= \"United States\":\n",
    "#                                         for e in netflix_df:\n",
    "#                                             if netflix_df[\"country6\"]!= \"United States\":\n",
    "#                                                 for f in netflix_df:\n",
    "#                                                     if netflix_df[\"country7\"]!= \"United States\":\n",
    "#                                                         for g in netflix_df:\n",
    "#                                                             if netflix_df[\"country8\"]!= \"United States\":\n",
    "#                                                                 for h in netflix_df:\n",
    "#                                                                     if netflix_df[\"country9\"]!= \"United States\":\n",
    "#                                                                         for i in netflix_df:\n",
    "#                                                                             if netflix_df[\"country10\"]!= \"United States\":\n",
    "#                                                                                 for j in netflix_df:\n",
    "#                                                                                     if netflix_df[\"country11\"]!= \"United States\":\n",
    "#                                                                                         for k in netflix_df:\n",
    "#                                                                                             if netflix_df[\"country11\"]!= \"United States\":\n",
    "#                                                                                                 netlix_df.drop()"
   ]
  },
  {
   "cell_type": "code",
   "execution_count": null,
   "metadata": {},
   "outputs": [],
   "source": [
    "netflix_df = pd.read_csv(netflix_file)\n",
    "netflix_df.head()"
   ]
  },
  {
   "cell_type": "code",
   "execution_count": null,
   "metadata": {},
   "outputs": [],
   "source": []
  }
 ],
 "metadata": {
  "kernelspec": {
   "display_name": "Python 3",
   "language": "python",
   "name": "python3"
  },
  "language_info": {
   "codemirror_mode": {
    "name": "ipython",
    "version": 3
   },
   "file_extension": ".py",
   "mimetype": "text/x-python",
   "name": "python",
   "nbconvert_exporter": "python",
   "pygments_lexer": "ipython3",
   "version": "3.8.3"
  }
 },
 "nbformat": 4,
 "nbformat_minor": 4
}
