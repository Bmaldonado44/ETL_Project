{
 "cells": [
  {
   "cell_type": "code",
   "execution_count": 12,
   "metadata": {},
   "outputs": [],
   "source": [
    "import matplotlib.pyplot as plt\n",
    "import csv\n",
    "import pandas as pd\n",
    "from sqlalchemy import create_engine\n",
    "import io\n",
    "from io import StringIO"
   ]
  },
  {
   "cell_type": "code",
   "execution_count": 13,
   "metadata": {
    "scrolled": true
   },
   "outputs": [],
   "source": [
    "#path to csv file\n",
    "netflix_file = \"../ETL_Project/netflix_titles.csv\"\n",
    "#netflix_df = pd.read_csv(netflix_file)\n",
    "\n",
    "#Read in csv file using StringIO to separate multiple country values in single cell on the comma\n",
    "#and create new df to stack the rows \n",
    "netflix_df = pd.read_csv(netflix_file)\n",
    "netflix_df_2 = netflix_df.country.str.split(',').apply(pd.Series, 1).stack()\n",
    "\n",
    "#drop the index from intial df and join both dfs\n",
    "netflix_df_2.index = netflix_df_2.index.droplevel(-1)\n",
    "netflix_df_2.name = 'country'\n",
    "del netflix_df['country']\n",
    "netflix_df = netflix_df.join(netflix_df_2)"
   ]
  },
  {
   "cell_type": "code",
   "execution_count": 14,
   "metadata": {},
   "outputs": [
    {
     "data": {
      "text/plain": [
       "title         7658\n",
       "type          7658\n",
       "date_added    7647\n",
       "country       7182\n",
       "dtype: int64"
      ]
     },
     "execution_count": 14,
     "metadata": {},
     "output_type": "execute_result"
    }
   ],
   "source": [
    "#removed unnecessary columns\n",
    "netflix_col=[\"title\", \"type\", \"date_added\", \"country\"]\n",
    "netflix_transformed=netflix_df[netflix_col].copy()\n",
    "\n",
    "#count of values in the columns\n",
    "netflix_transformed.count()\n"
   ]
  },
  {
   "cell_type": "code",
   "execution_count": 15,
   "metadata": {},
   "outputs": [
    {
     "data": {
      "text/plain": [
       "title         7182\n",
       "type          7182\n",
       "date_added    7173\n",
       "country       7182\n",
       "dtype: int64"
      ]
     },
     "execution_count": 15,
     "metadata": {},
     "output_type": "execute_result"
    }
   ],
   "source": [
    "#drop rows that do not have a 'country' value\n",
    "netflix_transformed= netflix_transformed.dropna(subset=['country'])\n",
    "netflix_transformed.count()"
   ]
  },
  {
   "cell_type": "code",
   "execution_count": 16,
   "metadata": {},
   "outputs": [
    {
     "data": {
      "text/plain": [
       "title         7173\n",
       "type          7173\n",
       "date_added    7173\n",
       "country       7173\n",
       "dtype: int64"
      ]
     },
     "execution_count": 16,
     "metadata": {},
     "output_type": "execute_result"
    }
   ],
   "source": [
    "#drop rows that do not have a 'date added' value\n",
    "netflix_transformed= netflix_transformed.dropna(subset=['date_added'])\n",
    "netflix_transformed.count()"
   ]
  },
  {
   "cell_type": "code",
   "execution_count": null,
   "metadata": {},
   "outputs": [],
   "source": [
    "##\n",
    "\n"
   ]
  },
  {
   "cell_type": "code",
   "execution_count": null,
   "metadata": {},
   "outputs": [],
   "source": [
    "# Len_netflix=len(netflix_transformed[4])\n",
    "# print(Len_netflix)"
   ]
  },
  {
   "cell_type": "code",
   "execution_count": null,
   "metadata": {},
   "outputs": [],
   "source": [
    "# Create a loop for the single entries\n",
    "# capturelist=[]\n",
    "# for x in range(len(netflix_transformed)):\n",
    "#     print((netflix_transformed[x])\n",
    "#     if len((netflix_transformed[\"country\"])[x])== 1:\n",
    "#         capturelist.append((netflix_transformed[\"title\"],netflix_transformed[\"type\"],netflix_transformed[\"date_added\"],((netflix_transformed[\"country\"])[x])))\n",
    "#     else:\n",
    "#         # Create an inner loop for lists within the csv1\n",
    "#         for y in (netflix_transformed[\"country\"])[x]:\n",
    "#             capturelist.append(csv1[x][y])\n",
    "\n",
    "print(capturelist)"
   ]
  },
  {
   "cell_type": "code",
   "execution_count": null,
   "metadata": {},
   "outputs": [],
   "source": [
    "# countries = netflix_df[\"country\"],netflix_df[\"country2\"],netflix_df[\"country3\"],netflix_df[\"country4\"],\\\n",
    "#              netflix_df[\"country5\"],netflix_df[\"country6\"],netflix_df[\"country7\"],netflix_df[\"country8\"],\\\n",
    "#              netflix_df[\"country9\"],netflix_df[\"country10\"],netflix_df[\"country11\"],netflix_df[\"country12\"]\n",
    "\n",
    "# for a in netflix_df:\n",
    "#     if netflix_df[\"country\"]!= \"United States\":\n",
    "#         for b in netflix_df:\n",
    "#             if netflix_df[\"country2\"]!= \"United States\":\n",
    "#                 for c in netflix_df:\n",
    "#                     if netflix_df[\"country3\"]!= \"United States\":\n",
    "#                         for c in netflix_df:\n",
    "#                             if netflix_df[\"country4\"]!= \"United States\":\n",
    "#                                 for d in netflix_df:\n",
    "#                                     if netflix_df[\"country5\"]!= \"United States\":\n",
    "#                                         for e in netflix_df:\n",
    "#                                             if netflix_df[\"country6\"]!= \"United States\":\n",
    "#                                                 for f in netflix_df:\n",
    "#                                                     if netflix_df[\"country7\"]!= \"United States\":\n",
    "#                                                         for g in netflix_df:\n",
    "#                                                             if netflix_df[\"country8\"]!= \"United States\":\n",
    "#                                                                 for h in netflix_df:\n",
    "#                                                                     if netflix_df[\"country9\"]!= \"United States\":\n",
    "#                                                                         for i in netflix_df:\n",
    "#                                                                             if netflix_df[\"country10\"]!= \"United States\":\n",
    "#                                                                                 for j in netflix_df:\n",
    "#                                                                                     if netflix_df[\"country11\"]!= \"United States\":\n",
    "#                                                                                         for k in netflix_df:\n",
    "#                                                                                             if netflix_df[\"country11\"]!= \"United States\":\n",
    "#                                                                                                 netlix_df.drop()"
   ]
  },
  {
   "cell_type": "code",
   "execution_count": null,
   "metadata": {},
   "outputs": [],
   "source": []
  },
  {
   "cell_type": "code",
   "execution_count": null,
   "metadata": {},
   "outputs": [],
   "source": [
    "netflix_df = pd.read_csv(netflix_file)\n",
    "netflix_df.head()"
   ]
  },
  {
   "cell_type": "code",
   "execution_count": null,
   "metadata": {},
   "outputs": [],
   "source": []
  }
 ],
 "metadata": {
  "kernelspec": {
   "display_name": "Python 3",
   "language": "python",
   "name": "python3"
  },
  "language_info": {
   "codemirror_mode": {
    "name": "ipython",
    "version": 3
   },
   "file_extension": ".py",
   "mimetype": "text/x-python",
   "name": "python",
   "nbconvert_exporter": "python",
   "pygments_lexer": "ipython3",
   "version": "3.8.3"
  }
 },
 "nbformat": 4,
 "nbformat_minor": 4
}
