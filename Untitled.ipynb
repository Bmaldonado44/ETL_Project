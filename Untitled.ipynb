{
 "cells": [
  {
   "cell_type": "code",
   "execution_count": 52,
   "metadata": {},
   "outputs": [],
   "source": [
    "import pandas as pd\n",
    "from sqlalchemy import create_engine,func\n",
    "import os \n",
    "import matplotlib.pyplot as plt\n",
    "import csv\n",
    "import numpy as np\n",
    "\n",
    "from sqlalchemy.orm import Session\n",
    "from sqlalchemy.ext.automap import automap_base\n",
    "\n",
    "\n",
    "from datetime import datetime as dt"
   ]
  },
  {
   "cell_type": "code",
   "execution_count": 53,
   "metadata": {},
   "outputs": [
    {
     "data": {
      "text/html": [
       "<div>\n",
       "<style scoped>\n",
       "    .dataframe tbody tr th:only-of-type {\n",
       "        vertical-align: middle;\n",
       "    }\n",
       "\n",
       "    .dataframe tbody tr th {\n",
       "        vertical-align: top;\n",
       "    }\n",
       "\n",
       "    .dataframe thead th {\n",
       "        text-align: right;\n",
       "    }\n",
       "</style>\n",
       "<table border=\"1\" class=\"dataframe\">\n",
       "  <thead>\n",
       "    <tr style=\"text-align: right;\">\n",
       "      <th></th>\n",
       "      <th>show_id</th>\n",
       "      <th>type</th>\n",
       "      <th>title</th>\n",
       "      <th>director</th>\n",
       "      <th>cast</th>\n",
       "      <th>date_added</th>\n",
       "      <th>release_year</th>\n",
       "      <th>rating</th>\n",
       "      <th>duration</th>\n",
       "      <th>listed_in</th>\n",
       "      <th>...</th>\n",
       "      <th>country3</th>\n",
       "      <th>country4</th>\n",
       "      <th>country5</th>\n",
       "      <th>country6</th>\n",
       "      <th>country7</th>\n",
       "      <th>country8</th>\n",
       "      <th>country9</th>\n",
       "      <th>country10</th>\n",
       "      <th>country11</th>\n",
       "      <th>country12</th>\n",
       "    </tr>\n",
       "  </thead>\n",
       "  <tbody>\n",
       "    <tr>\n",
       "      <th>0</th>\n",
       "      <td>81145628</td>\n",
       "      <td>Movie</td>\n",
       "      <td>Norm of the North: King Sized Adventure</td>\n",
       "      <td>Richard Finn, Tim Maltby</td>\n",
       "      <td>Alan Marriott, Andrew Toth, Brian Dobson, Cole...</td>\n",
       "      <td>9-Sep-19</td>\n",
       "      <td>2019</td>\n",
       "      <td>TV-PG</td>\n",
       "      <td>90 min</td>\n",
       "      <td>Children &amp; Family Movies, Comedies</td>\n",
       "      <td>...</td>\n",
       "      <td>South Korea</td>\n",
       "      <td>China</td>\n",
       "      <td>NaN</td>\n",
       "      <td>NaN</td>\n",
       "      <td>NaN</td>\n",
       "      <td>NaN</td>\n",
       "      <td>NaN</td>\n",
       "      <td>NaN</td>\n",
       "      <td>NaN</td>\n",
       "      <td>NaN</td>\n",
       "    </tr>\n",
       "    <tr>\n",
       "      <th>1</th>\n",
       "      <td>80117401</td>\n",
       "      <td>Movie</td>\n",
       "      <td>Jandino: Whatever it Takes</td>\n",
       "      <td>NaN</td>\n",
       "      <td>Jandino Asporaat</td>\n",
       "      <td>9-Sep-16</td>\n",
       "      <td>2016</td>\n",
       "      <td>TV-MA</td>\n",
       "      <td>94 min</td>\n",
       "      <td>Stand-Up Comedy</td>\n",
       "      <td>...</td>\n",
       "      <td>NaN</td>\n",
       "      <td>NaN</td>\n",
       "      <td>NaN</td>\n",
       "      <td>NaN</td>\n",
       "      <td>NaN</td>\n",
       "      <td>NaN</td>\n",
       "      <td>NaN</td>\n",
       "      <td>NaN</td>\n",
       "      <td>NaN</td>\n",
       "      <td>NaN</td>\n",
       "    </tr>\n",
       "    <tr>\n",
       "      <th>2</th>\n",
       "      <td>70234439</td>\n",
       "      <td>TV Show</td>\n",
       "      <td>Transformers Prime</td>\n",
       "      <td>NaN</td>\n",
       "      <td>Peter Cullen, Sumalee Montano, Frank Welker, J...</td>\n",
       "      <td>8-Sep-18</td>\n",
       "      <td>2013</td>\n",
       "      <td>TV-Y7-FV</td>\n",
       "      <td>1 Season</td>\n",
       "      <td>Kids' TV</td>\n",
       "      <td>...</td>\n",
       "      <td>NaN</td>\n",
       "      <td>NaN</td>\n",
       "      <td>NaN</td>\n",
       "      <td>NaN</td>\n",
       "      <td>NaN</td>\n",
       "      <td>NaN</td>\n",
       "      <td>NaN</td>\n",
       "      <td>NaN</td>\n",
       "      <td>NaN</td>\n",
       "      <td>NaN</td>\n",
       "    </tr>\n",
       "    <tr>\n",
       "      <th>3</th>\n",
       "      <td>80058654</td>\n",
       "      <td>TV Show</td>\n",
       "      <td>Transformers: Robots in Disguise</td>\n",
       "      <td>NaN</td>\n",
       "      <td>Will Friedle, Darren Criss, Constance Zimmer, ...</td>\n",
       "      <td>8-Sep-18</td>\n",
       "      <td>2016</td>\n",
       "      <td>TV-Y7</td>\n",
       "      <td>1 Season</td>\n",
       "      <td>Kids' TV</td>\n",
       "      <td>...</td>\n",
       "      <td>NaN</td>\n",
       "      <td>NaN</td>\n",
       "      <td>NaN</td>\n",
       "      <td>NaN</td>\n",
       "      <td>NaN</td>\n",
       "      <td>NaN</td>\n",
       "      <td>NaN</td>\n",
       "      <td>NaN</td>\n",
       "      <td>NaN</td>\n",
       "      <td>NaN</td>\n",
       "    </tr>\n",
       "    <tr>\n",
       "      <th>4</th>\n",
       "      <td>80125979</td>\n",
       "      <td>Movie</td>\n",
       "      <td>#realityhigh</td>\n",
       "      <td>Fernando Lebrija</td>\n",
       "      <td>Nesta Cooper, Kate Walsh, John Michael Higgins...</td>\n",
       "      <td>8-Sep-17</td>\n",
       "      <td>2017</td>\n",
       "      <td>TV-14</td>\n",
       "      <td>99 min</td>\n",
       "      <td>Comedies</td>\n",
       "      <td>...</td>\n",
       "      <td>NaN</td>\n",
       "      <td>NaN</td>\n",
       "      <td>NaN</td>\n",
       "      <td>NaN</td>\n",
       "      <td>NaN</td>\n",
       "      <td>NaN</td>\n",
       "      <td>NaN</td>\n",
       "      <td>NaN</td>\n",
       "      <td>NaN</td>\n",
       "      <td>NaN</td>\n",
       "    </tr>\n",
       "  </tbody>\n",
       "</table>\n",
       "<p>5 rows × 23 columns</p>\n",
       "</div>"
      ],
      "text/plain": [
       "    show_id     type                                    title  \\\n",
       "0  81145628    Movie  Norm of the North: King Sized Adventure   \n",
       "1  80117401    Movie               Jandino: Whatever it Takes   \n",
       "2  70234439  TV Show                       Transformers Prime   \n",
       "3  80058654  TV Show         Transformers: Robots in Disguise   \n",
       "4  80125979    Movie                             #realityhigh   \n",
       "\n",
       "                   director  \\\n",
       "0  Richard Finn, Tim Maltby   \n",
       "1                       NaN   \n",
       "2                       NaN   \n",
       "3                       NaN   \n",
       "4          Fernando Lebrija   \n",
       "\n",
       "                                                cast date_added  release_year  \\\n",
       "0  Alan Marriott, Andrew Toth, Brian Dobson, Cole...   9-Sep-19          2019   \n",
       "1                                   Jandino Asporaat   9-Sep-16          2016   \n",
       "2  Peter Cullen, Sumalee Montano, Frank Welker, J...   8-Sep-18          2013   \n",
       "3  Will Friedle, Darren Criss, Constance Zimmer, ...   8-Sep-18          2016   \n",
       "4  Nesta Cooper, Kate Walsh, John Michael Higgins...   8-Sep-17          2017   \n",
       "\n",
       "     rating  duration                           listed_in  ...      country3  \\\n",
       "0     TV-PG    90 min  Children & Family Movies, Comedies  ...   South Korea   \n",
       "1     TV-MA    94 min                     Stand-Up Comedy  ...           NaN   \n",
       "2  TV-Y7-FV  1 Season                            Kids' TV  ...           NaN   \n",
       "3     TV-Y7  1 Season                            Kids' TV  ...           NaN   \n",
       "4     TV-14    99 min                            Comedies  ...           NaN   \n",
       "\n",
       "  country4 country5 country6 country7 country8 country9 country10 country11  \\\n",
       "0    China      NaN      NaN      NaN      NaN      NaN       NaN       NaN   \n",
       "1      NaN      NaN      NaN      NaN      NaN      NaN       NaN       NaN   \n",
       "2      NaN      NaN      NaN      NaN      NaN      NaN       NaN       NaN   \n",
       "3      NaN      NaN      NaN      NaN      NaN      NaN       NaN       NaN   \n",
       "4      NaN      NaN      NaN      NaN      NaN      NaN       NaN       NaN   \n",
       "\n",
       "  country12  \n",
       "0       NaN  \n",
       "1       NaN  \n",
       "2       NaN  \n",
       "3       NaN  \n",
       "4       NaN  \n",
       "\n",
       "[5 rows x 23 columns]"
      ]
     },
     "execution_count": 53,
     "metadata": {},
     "output_type": "execute_result"
    }
   ],
   "source": [
    "#Reading csv\n",
    "netflix_file = \"../ETL_Project/netflix_titles.csv\"\n",
    "netflix_df = pd.read_csv(netflix_file)\n",
    "netflix_df.head()"
   ]
  },
  {
   "cell_type": "code",
   "execution_count": 54,
   "metadata": {},
   "outputs": [
    {
     "data": {
      "text/html": [
       "<div>\n",
       "<style scoped>\n",
       "    .dataframe tbody tr th:only-of-type {\n",
       "        vertical-align: middle;\n",
       "    }\n",
       "\n",
       "    .dataframe tbody tr th {\n",
       "        vertical-align: top;\n",
       "    }\n",
       "\n",
       "    .dataframe thead th {\n",
       "        text-align: right;\n",
       "    }\n",
       "</style>\n",
       "<table border=\"1\" class=\"dataframe\">\n",
       "  <thead>\n",
       "    <tr style=\"text-align: right;\">\n",
       "      <th></th>\n",
       "      <th>Area</th>\n",
       "      <th>Years</th>\n",
       "      <th>Subscribers</th>\n",
       "    </tr>\n",
       "  </thead>\n",
       "  <tbody>\n",
       "    <tr>\n",
       "      <th>0</th>\n",
       "      <td>United States and Canada</td>\n",
       "      <td>Q1 - 2018</td>\n",
       "      <td>60909000</td>\n",
       "    </tr>\n",
       "    <tr>\n",
       "      <th>1</th>\n",
       "      <td>Europe,  Middle East and Africa</td>\n",
       "      <td>Q1 - 2018</td>\n",
       "      <td>29339000</td>\n",
       "    </tr>\n",
       "    <tr>\n",
       "      <th>2</th>\n",
       "      <td>Latin America</td>\n",
       "      <td>Q1 - 2018</td>\n",
       "      <td>21260000</td>\n",
       "    </tr>\n",
       "    <tr>\n",
       "      <th>3</th>\n",
       "      <td>Asia-Pacific</td>\n",
       "      <td>Q1 - 2018</td>\n",
       "      <td>7394000</td>\n",
       "    </tr>\n",
       "    <tr>\n",
       "      <th>4</th>\n",
       "      <td>United States and Canada</td>\n",
       "      <td>Q2 - 2018</td>\n",
       "      <td>61870000</td>\n",
       "    </tr>\n",
       "  </tbody>\n",
       "</table>\n",
       "</div>"
      ],
      "text/plain": [
       "                              Area      Years  Subscribers\n",
       "0         United States and Canada  Q1 - 2018     60909000\n",
       "1  Europe,  Middle East and Africa  Q1 - 2018     29339000\n",
       "2                    Latin America  Q1 - 2018     21260000\n",
       "3                     Asia-Pacific  Q1 - 2018      7394000\n",
       "4         United States and Canada  Q2 - 2018     61870000"
      ]
     },
     "execution_count": 54,
     "metadata": {},
     "output_type": "execute_result"
    }
   ],
   "source": [
    "#Reading csv\n",
    "\n",
    "sub_file = \"../ETL_Project/DataNetflixSubscriber.csv\"\n",
    "sub_df = pd.read_csv(sub_file)\n",
    "sub_df.head()"
   ]
  },
  {
   "cell_type": "code",
   "execution_count": 55,
   "metadata": {},
   "outputs": [
    {
     "name": "stdout",
     "output_type": "stream",
     "text": [
      "                                            title category     Years    rating\n",
      "0         Norm of the North: King Sized Adventure    Movie  9-Sep-19     TV-PG\n",
      "1                      Jandino: Whatever it Takes    Movie  9-Sep-16     TV-MA\n",
      "2                              Transformers Prime  TV Show  8-Sep-18  TV-Y7-FV\n",
      "3                Transformers: Robots in Disguise  TV Show  8-Sep-18     TV-Y7\n",
      "4                                    #realityhigh    Movie  8-Sep-17     TV-14\n",
      "...                                           ...      ...       ...       ...\n",
      "6229                                 Red vs. Blue  TV Show       NaN        NR\n",
      "6230                                        Maron  TV Show       NaN     TV-MA\n",
      "6231       Little Baby Bum: Nursery Rhyme Friends    Movie       NaN       NaN\n",
      "6232  A Young Doctor's Notebook and Other Stories  TV Show       NaN     TV-MA\n",
      "6233                                      Friends  TV Show       NaN     TV-14\n",
      "\n",
      "[6234 rows x 4 columns]\n"
     ]
    }
   ],
   "source": [
    "#filtered dataframe from specific columns\n",
    "netflix_col=[\"title\",\"type\",\"date_added\",\"rating\"]\n",
    "netflix_transformed= netflix_df[netflix_col].copy()\n",
    "\n",
    "\n",
    "netflix_transformed = netflix_transformed.rename(columns={\"date_added\": \"Years\",\n",
    "                                                          \"type\": \"category\",\n",
    "                                                         \n",
    "                                                         })\n",
    "\n",
    "print(netflix_transformed)"
   ]
  },
  {
   "cell_type": "code",
   "execution_count": null,
   "metadata": {},
   "outputs": [],
   "source": []
  },
  {
   "cell_type": "code",
   "execution_count": null,
   "metadata": {},
   "outputs": [],
   "source": []
  },
  {
   "cell_type": "code",
   "execution_count": 56,
   "metadata": {},
   "outputs": [],
   "source": [
    "# convert the 'Years' column to datetime format\n",
    "netflix_transformed[\"Years\"]=pd.to_datetime(netflix_transformed['Years'])"
   ]
  },
  {
   "cell_type": "code",
   "execution_count": 57,
   "metadata": {},
   "outputs": [
    {
     "name": "stdout",
     "output_type": "stream",
     "text": [
      "<class 'pandas.core.frame.DataFrame'>\n",
      "RangeIndex: 6234 entries, 0 to 6233\n",
      "Data columns (total 4 columns):\n",
      " #   Column    Non-Null Count  Dtype         \n",
      "---  ------    --------------  -----         \n",
      " 0   title     6234 non-null   object        \n",
      " 1   category  6234 non-null   object        \n",
      " 2   Years     6223 non-null   datetime64[ns]\n",
      " 3   rating    6224 non-null   object        \n",
      "dtypes: datetime64[ns](1), object(3)\n",
      "memory usage: 194.9+ KB\n"
     ]
    }
   ],
   "source": [
    "netflix_transformed.info()"
   ]
  },
  {
   "cell_type": "code",
   "execution_count": null,
   "metadata": {},
   "outputs": [],
   "source": []
  },
  {
   "cell_type": "code",
   "execution_count": 58,
   "metadata": {},
   "outputs": [],
   "source": [
    "#Using Years\n",
    "netflix_transformed[\"Years\"]=netflix_transformed[\"Years\"].dt.strftime(\"%Y\")"
   ]
  },
  {
   "cell_type": "code",
   "execution_count": 59,
   "metadata": {},
   "outputs": [
    {
     "data": {
      "text/html": [
       "<div>\n",
       "<style scoped>\n",
       "    .dataframe tbody tr th:only-of-type {\n",
       "        vertical-align: middle;\n",
       "    }\n",
       "\n",
       "    .dataframe tbody tr th {\n",
       "        vertical-align: top;\n",
       "    }\n",
       "\n",
       "    .dataframe thead th {\n",
       "        text-align: right;\n",
       "    }\n",
       "</style>\n",
       "<table border=\"1\" class=\"dataframe\">\n",
       "  <thead>\n",
       "    <tr style=\"text-align: right;\">\n",
       "      <th></th>\n",
       "      <th>title</th>\n",
       "      <th>category</th>\n",
       "      <th>Years</th>\n",
       "      <th>rating</th>\n",
       "    </tr>\n",
       "  </thead>\n",
       "  <tbody>\n",
       "    <tr>\n",
       "      <th>0</th>\n",
       "      <td>Norm of the North: King Sized Adventure</td>\n",
       "      <td>Movie</td>\n",
       "      <td>2019</td>\n",
       "      <td>TV-PG</td>\n",
       "    </tr>\n",
       "    <tr>\n",
       "      <th>1</th>\n",
       "      <td>Jandino: Whatever it Takes</td>\n",
       "      <td>Movie</td>\n",
       "      <td>2016</td>\n",
       "      <td>TV-MA</td>\n",
       "    </tr>\n",
       "    <tr>\n",
       "      <th>2</th>\n",
       "      <td>Transformers Prime</td>\n",
       "      <td>TV Show</td>\n",
       "      <td>2018</td>\n",
       "      <td>TV-Y7-FV</td>\n",
       "    </tr>\n",
       "    <tr>\n",
       "      <th>3</th>\n",
       "      <td>Transformers: Robots in Disguise</td>\n",
       "      <td>TV Show</td>\n",
       "      <td>2018</td>\n",
       "      <td>TV-Y7</td>\n",
       "    </tr>\n",
       "    <tr>\n",
       "      <th>4</th>\n",
       "      <td>#realityhigh</td>\n",
       "      <td>Movie</td>\n",
       "      <td>2017</td>\n",
       "      <td>TV-14</td>\n",
       "    </tr>\n",
       "  </tbody>\n",
       "</table>\n",
       "</div>"
      ],
      "text/plain": [
       "                                     title category Years    rating\n",
       "0  Norm of the North: King Sized Adventure    Movie  2019     TV-PG\n",
       "1               Jandino: Whatever it Takes    Movie  2016     TV-MA\n",
       "2                       Transformers Prime  TV Show  2018  TV-Y7-FV\n",
       "3         Transformers: Robots in Disguise  TV Show  2018     TV-Y7\n",
       "4                             #realityhigh    Movie  2017     TV-14"
      ]
     },
     "execution_count": 59,
     "metadata": {},
     "output_type": "execute_result"
    }
   ],
   "source": [
    "netflix_transformed.head()"
   ]
  },
  {
   "cell_type": "code",
   "execution_count": 60,
   "metadata": {},
   "outputs": [
    {
     "data": {
      "text/html": [
       "<div>\n",
       "<style scoped>\n",
       "    .dataframe tbody tr th:only-of-type {\n",
       "        vertical-align: middle;\n",
       "    }\n",
       "\n",
       "    .dataframe tbody tr th {\n",
       "        vertical-align: top;\n",
       "    }\n",
       "\n",
       "    .dataframe thead th {\n",
       "        text-align: right;\n",
       "    }\n",
       "</style>\n",
       "<table border=\"1\" class=\"dataframe\">\n",
       "  <thead>\n",
       "    <tr style=\"text-align: right;\">\n",
       "      <th></th>\n",
       "      <th>category</th>\n",
       "      <th>Years</th>\n",
       "      <th>rating</th>\n",
       "    </tr>\n",
       "    <tr>\n",
       "      <th>title</th>\n",
       "      <th></th>\n",
       "      <th></th>\n",
       "      <th></th>\n",
       "    </tr>\n",
       "  </thead>\n",
       "  <tbody>\n",
       "    <tr>\n",
       "      <th>Norm of the North: King Sized Adventure</th>\n",
       "      <td>Movie</td>\n",
       "      <td>2019</td>\n",
       "      <td>TV-PG</td>\n",
       "    </tr>\n",
       "    <tr>\n",
       "      <th>Jandino: Whatever it Takes</th>\n",
       "      <td>Movie</td>\n",
       "      <td>2016</td>\n",
       "      <td>TV-MA</td>\n",
       "    </tr>\n",
       "    <tr>\n",
       "      <th>Transformers Prime</th>\n",
       "      <td>TV Show</td>\n",
       "      <td>2018</td>\n",
       "      <td>TV-Y7-FV</td>\n",
       "    </tr>\n",
       "    <tr>\n",
       "      <th>Transformers: Robots in Disguise</th>\n",
       "      <td>TV Show</td>\n",
       "      <td>2018</td>\n",
       "      <td>TV-Y7</td>\n",
       "    </tr>\n",
       "    <tr>\n",
       "      <th>#realityhigh</th>\n",
       "      <td>Movie</td>\n",
       "      <td>2017</td>\n",
       "      <td>TV-14</td>\n",
       "    </tr>\n",
       "  </tbody>\n",
       "</table>\n",
       "</div>"
      ],
      "text/plain": [
       "                                        category Years    rating\n",
       "title                                                           \n",
       "Norm of the North: King Sized Adventure    Movie  2019     TV-PG\n",
       "Jandino: Whatever it Takes                 Movie  2016     TV-MA\n",
       "Transformers Prime                       TV Show  2018  TV-Y7-FV\n",
       "Transformers: Robots in Disguise         TV Show  2018     TV-Y7\n",
       "#realityhigh                               Movie  2017     TV-14"
      ]
     },
     "execution_count": 60,
     "metadata": {},
     "output_type": "execute_result"
    }
   ],
   "source": [
    "netflix_transformed.drop_duplicates(\"title\", inplace=True)\n",
    "netflix_transformed.set_index(\"title\", inplace=True)\n",
    "\n",
    "netflix_transformed.head()"
   ]
  },
  {
   "cell_type": "code",
   "execution_count": 61,
   "metadata": {},
   "outputs": [
    {
     "name": "stdout",
     "output_type": "stream",
     "text": [
      "                               Area      Years  Subscribers\n",
      "0          United States and Canada  Q1 - 2018     60909000\n",
      "1   Europe,  Middle East and Africa  Q1 - 2018     29339000\n",
      "2                     Latin America  Q1 - 2018     21260000\n",
      "3                      Asia-Pacific  Q1 - 2018      7394000\n",
      "4          United States and Canada  Q2 - 2018     61870000\n",
      "5   Europe,  Middle East and Africa  Q2 - 2018     31317000\n",
      "6                     Latin America  Q2 - 2018     22795000\n",
      "7                      Asia-Pacific  Q2 - 2018      8372000\n",
      "8          United States and Canada  Q3 - 2018     63010000\n",
      "9   Europe,  Middle East and Africa  Q3 - 2018     33836000\n",
      "10                    Latin America  Q3 - 2018     24115000\n",
      "11                     Asia-Pacific  Q3 - 2018      9461000\n",
      "12         United States and Canada  Q4 - 2018     64757000\n",
      "13  Europe,  Middle East and Africa  Q4 - 2018     37818000\n",
      "14                    Latin America  Q4 - 2018     26077000\n",
      "15                     Asia-Pacific  Q4 - 2018     10607000\n",
      "16         United States and Canada  Q1 - 2019     66633000\n",
      "17  Europe,  Middle East and Africa  Q1 - 2019     42542000\n",
      "18                    Latin America  Q1 - 2019     27547000\n",
      "19                     Asia-Pacific  Q1 - 2019     12141000\n",
      "20         United States and Canada  Q2 - 2019     66501000\n",
      "21  Europe,  Middle East and Africa  Q2 - 2019     44229000\n",
      "22                    Latin America  Q2 - 2019     27890000\n",
      "23                     Asia-Pacific  Q2 - 2019     12942000\n",
      "24         United States and Canada  Q3 - 2019     67114000\n",
      "25  Europe,  Middle East and Africa  Q3 - 2019     47355000\n",
      "26                    Latin America  Q3 - 2019     29380000\n",
      "27                     Asia-Pacific  Q3 - 2019     14485000\n",
      "28         United States and Canada  Q4 - 2019     67662000\n",
      "29  Europe,  Middle East and Africa  Q4 - 2019     51778000\n",
      "30                    Latin America  Q4 - 2019     31417000\n",
      "31                     Asia-Pacific  Q4 - 2019     16233000\n",
      "32         United States and Canada  Q1 - 2020     69969000\n",
      "33  Europe,  Middle East and Africa  Q1 - 2020     58734000\n",
      "34                    Latin America  Q1 - 2020     34318000\n",
      "35                     Asia-Pacific  Q1 - 2020     19835000\n",
      "36         United States and Canada  Q2 - 2020     72904000\n",
      "37  Europe,  Middle East and Africa  Q2 - 2020     61483000\n",
      "38                    Latin America  Q2 - 2020     36068000\n",
      "39                     Asia-Pacific  Q2 - 2020     22492000\n"
     ]
    }
   ],
   "source": [
    "#filtered dataframe from specific columns\n",
    "sub_col=[\"Area\",\"Years\",\"Subscribers\"]\n",
    "sub_transformed= sub_df[sub_col].copy()\n",
    "print(sub_transformed)"
   ]
  },
  {
   "cell_type": "code",
   "execution_count": 62,
   "metadata": {},
   "outputs": [
    {
     "data": {
      "text/html": [
       "<div>\n",
       "<style scoped>\n",
       "    .dataframe tbody tr th:only-of-type {\n",
       "        vertical-align: middle;\n",
       "    }\n",
       "\n",
       "    .dataframe tbody tr th {\n",
       "        vertical-align: top;\n",
       "    }\n",
       "\n",
       "    .dataframe thead th {\n",
       "        text-align: right;\n",
       "    }\n",
       "</style>\n",
       "<table border=\"1\" class=\"dataframe\">\n",
       "  <thead>\n",
       "    <tr style=\"text-align: right;\">\n",
       "      <th></th>\n",
       "      <th>Area</th>\n",
       "      <th>Years</th>\n",
       "      <th>Subscribers</th>\n",
       "    </tr>\n",
       "  </thead>\n",
       "  <tbody>\n",
       "    <tr>\n",
       "      <th>0</th>\n",
       "      <td>United States and Canada</td>\n",
       "      <td>2018</td>\n",
       "      <td>60909000</td>\n",
       "    </tr>\n",
       "    <tr>\n",
       "      <th>1</th>\n",
       "      <td>Europe,  Middle East and Africa</td>\n",
       "      <td>2018</td>\n",
       "      <td>29339000</td>\n",
       "    </tr>\n",
       "    <tr>\n",
       "      <th>2</th>\n",
       "      <td>Latin America</td>\n",
       "      <td>2018</td>\n",
       "      <td>21260000</td>\n",
       "    </tr>\n",
       "    <tr>\n",
       "      <th>3</th>\n",
       "      <td>Asia-Pacific</td>\n",
       "      <td>2018</td>\n",
       "      <td>7394000</td>\n",
       "    </tr>\n",
       "    <tr>\n",
       "      <th>4</th>\n",
       "      <td>United States and Canada</td>\n",
       "      <td>2018</td>\n",
       "      <td>61870000</td>\n",
       "    </tr>\n",
       "    <tr>\n",
       "      <th>5</th>\n",
       "      <td>Europe,  Middle East and Africa</td>\n",
       "      <td>2018</td>\n",
       "      <td>31317000</td>\n",
       "    </tr>\n",
       "    <tr>\n",
       "      <th>6</th>\n",
       "      <td>Latin America</td>\n",
       "      <td>2018</td>\n",
       "      <td>22795000</td>\n",
       "    </tr>\n",
       "    <tr>\n",
       "      <th>7</th>\n",
       "      <td>Asia-Pacific</td>\n",
       "      <td>2018</td>\n",
       "      <td>8372000</td>\n",
       "    </tr>\n",
       "    <tr>\n",
       "      <th>8</th>\n",
       "      <td>United States and Canada</td>\n",
       "      <td>2018</td>\n",
       "      <td>63010000</td>\n",
       "    </tr>\n",
       "    <tr>\n",
       "      <th>9</th>\n",
       "      <td>Europe,  Middle East and Africa</td>\n",
       "      <td>2018</td>\n",
       "      <td>33836000</td>\n",
       "    </tr>\n",
       "    <tr>\n",
       "      <th>10</th>\n",
       "      <td>Latin America</td>\n",
       "      <td>2018</td>\n",
       "      <td>24115000</td>\n",
       "    </tr>\n",
       "    <tr>\n",
       "      <th>11</th>\n",
       "      <td>Asia-Pacific</td>\n",
       "      <td>2018</td>\n",
       "      <td>9461000</td>\n",
       "    </tr>\n",
       "    <tr>\n",
       "      <th>12</th>\n",
       "      <td>United States and Canada</td>\n",
       "      <td>2018</td>\n",
       "      <td>64757000</td>\n",
       "    </tr>\n",
       "    <tr>\n",
       "      <th>13</th>\n",
       "      <td>Europe,  Middle East and Africa</td>\n",
       "      <td>2018</td>\n",
       "      <td>37818000</td>\n",
       "    </tr>\n",
       "    <tr>\n",
       "      <th>14</th>\n",
       "      <td>Latin America</td>\n",
       "      <td>2018</td>\n",
       "      <td>26077000</td>\n",
       "    </tr>\n",
       "    <tr>\n",
       "      <th>15</th>\n",
       "      <td>Asia-Pacific</td>\n",
       "      <td>2018</td>\n",
       "      <td>10607000</td>\n",
       "    </tr>\n",
       "    <tr>\n",
       "      <th>16</th>\n",
       "      <td>United States and Canada</td>\n",
       "      <td>2019</td>\n",
       "      <td>66633000</td>\n",
       "    </tr>\n",
       "    <tr>\n",
       "      <th>17</th>\n",
       "      <td>Europe,  Middle East and Africa</td>\n",
       "      <td>2019</td>\n",
       "      <td>42542000</td>\n",
       "    </tr>\n",
       "    <tr>\n",
       "      <th>18</th>\n",
       "      <td>Latin America</td>\n",
       "      <td>2019</td>\n",
       "      <td>27547000</td>\n",
       "    </tr>\n",
       "    <tr>\n",
       "      <th>19</th>\n",
       "      <td>Asia-Pacific</td>\n",
       "      <td>2019</td>\n",
       "      <td>12141000</td>\n",
       "    </tr>\n",
       "    <tr>\n",
       "      <th>20</th>\n",
       "      <td>United States and Canada</td>\n",
       "      <td>2019</td>\n",
       "      <td>66501000</td>\n",
       "    </tr>\n",
       "    <tr>\n",
       "      <th>21</th>\n",
       "      <td>Europe,  Middle East and Africa</td>\n",
       "      <td>2019</td>\n",
       "      <td>44229000</td>\n",
       "    </tr>\n",
       "    <tr>\n",
       "      <th>22</th>\n",
       "      <td>Latin America</td>\n",
       "      <td>2019</td>\n",
       "      <td>27890000</td>\n",
       "    </tr>\n",
       "    <tr>\n",
       "      <th>23</th>\n",
       "      <td>Asia-Pacific</td>\n",
       "      <td>2019</td>\n",
       "      <td>12942000</td>\n",
       "    </tr>\n",
       "    <tr>\n",
       "      <th>24</th>\n",
       "      <td>United States and Canada</td>\n",
       "      <td>2019</td>\n",
       "      <td>67114000</td>\n",
       "    </tr>\n",
       "    <tr>\n",
       "      <th>25</th>\n",
       "      <td>Europe,  Middle East and Africa</td>\n",
       "      <td>2019</td>\n",
       "      <td>47355000</td>\n",
       "    </tr>\n",
       "    <tr>\n",
       "      <th>26</th>\n",
       "      <td>Latin America</td>\n",
       "      <td>2019</td>\n",
       "      <td>29380000</td>\n",
       "    </tr>\n",
       "    <tr>\n",
       "      <th>27</th>\n",
       "      <td>Asia-Pacific</td>\n",
       "      <td>2019</td>\n",
       "      <td>14485000</td>\n",
       "    </tr>\n",
       "    <tr>\n",
       "      <th>28</th>\n",
       "      <td>United States and Canada</td>\n",
       "      <td>2019</td>\n",
       "      <td>67662000</td>\n",
       "    </tr>\n",
       "    <tr>\n",
       "      <th>29</th>\n",
       "      <td>Europe,  Middle East and Africa</td>\n",
       "      <td>2019</td>\n",
       "      <td>51778000</td>\n",
       "    </tr>\n",
       "    <tr>\n",
       "      <th>30</th>\n",
       "      <td>Latin America</td>\n",
       "      <td>2019</td>\n",
       "      <td>31417000</td>\n",
       "    </tr>\n",
       "    <tr>\n",
       "      <th>31</th>\n",
       "      <td>Asia-Pacific</td>\n",
       "      <td>2019</td>\n",
       "      <td>16233000</td>\n",
       "    </tr>\n",
       "    <tr>\n",
       "      <th>32</th>\n",
       "      <td>United States and Canada</td>\n",
       "      <td>2020</td>\n",
       "      <td>69969000</td>\n",
       "    </tr>\n",
       "    <tr>\n",
       "      <th>33</th>\n",
       "      <td>Europe,  Middle East and Africa</td>\n",
       "      <td>2020</td>\n",
       "      <td>58734000</td>\n",
       "    </tr>\n",
       "    <tr>\n",
       "      <th>34</th>\n",
       "      <td>Latin America</td>\n",
       "      <td>2020</td>\n",
       "      <td>34318000</td>\n",
       "    </tr>\n",
       "    <tr>\n",
       "      <th>35</th>\n",
       "      <td>Asia-Pacific</td>\n",
       "      <td>2020</td>\n",
       "      <td>19835000</td>\n",
       "    </tr>\n",
       "    <tr>\n",
       "      <th>36</th>\n",
       "      <td>United States and Canada</td>\n",
       "      <td>2020</td>\n",
       "      <td>72904000</td>\n",
       "    </tr>\n",
       "    <tr>\n",
       "      <th>37</th>\n",
       "      <td>Europe,  Middle East and Africa</td>\n",
       "      <td>2020</td>\n",
       "      <td>61483000</td>\n",
       "    </tr>\n",
       "    <tr>\n",
       "      <th>38</th>\n",
       "      <td>Latin America</td>\n",
       "      <td>2020</td>\n",
       "      <td>36068000</td>\n",
       "    </tr>\n",
       "    <tr>\n",
       "      <th>39</th>\n",
       "      <td>Asia-Pacific</td>\n",
       "      <td>2020</td>\n",
       "      <td>22492000</td>\n",
       "    </tr>\n",
       "  </tbody>\n",
       "</table>\n",
       "</div>"
      ],
      "text/plain": [
       "                               Area Years  Subscribers\n",
       "0          United States and Canada  2018     60909000\n",
       "1   Europe,  Middle East and Africa  2018     29339000\n",
       "2                     Latin America  2018     21260000\n",
       "3                      Asia-Pacific  2018      7394000\n",
       "4          United States and Canada  2018     61870000\n",
       "5   Europe,  Middle East and Africa  2018     31317000\n",
       "6                     Latin America  2018     22795000\n",
       "7                      Asia-Pacific  2018      8372000\n",
       "8          United States and Canada  2018     63010000\n",
       "9   Europe,  Middle East and Africa  2018     33836000\n",
       "10                    Latin America  2018     24115000\n",
       "11                     Asia-Pacific  2018      9461000\n",
       "12         United States and Canada  2018     64757000\n",
       "13  Europe,  Middle East and Africa  2018     37818000\n",
       "14                    Latin America  2018     26077000\n",
       "15                     Asia-Pacific  2018     10607000\n",
       "16         United States and Canada  2019     66633000\n",
       "17  Europe,  Middle East and Africa  2019     42542000\n",
       "18                    Latin America  2019     27547000\n",
       "19                     Asia-Pacific  2019     12141000\n",
       "20         United States and Canada  2019     66501000\n",
       "21  Europe,  Middle East and Africa  2019     44229000\n",
       "22                    Latin America  2019     27890000\n",
       "23                     Asia-Pacific  2019     12942000\n",
       "24         United States and Canada  2019     67114000\n",
       "25  Europe,  Middle East and Africa  2019     47355000\n",
       "26                    Latin America  2019     29380000\n",
       "27                     Asia-Pacific  2019     14485000\n",
       "28         United States and Canada  2019     67662000\n",
       "29  Europe,  Middle East and Africa  2019     51778000\n",
       "30                    Latin America  2019     31417000\n",
       "31                     Asia-Pacific  2019     16233000\n",
       "32         United States and Canada  2020     69969000\n",
       "33  Europe,  Middle East and Africa  2020     58734000\n",
       "34                    Latin America  2020     34318000\n",
       "35                     Asia-Pacific  2020     19835000\n",
       "36         United States and Canada  2020     72904000\n",
       "37  Europe,  Middle East and Africa  2020     61483000\n",
       "38                    Latin America  2020     36068000\n",
       "39                     Asia-Pacific  2020     22492000"
      ]
     },
     "execution_count": 62,
     "metadata": {},
     "output_type": "execute_result"
    }
   ],
   "source": [
    "#Did a year split to display just years without the quarter\n",
    "\n",
    "year_sub=sub_transformed[\"Years\"].str.split(\" - \").str[1]\n",
    "sub_transformed[\"Years\"]=sub_transformed[\"Years\"].str.split(\" - \").str[1]\n",
    "sub_transformed"
   ]
  },
  {
   "cell_type": "code",
   "execution_count": 63,
   "metadata": {},
   "outputs": [],
   "source": [
    "#sub_transformed.drop_duplicates(\"Area\", inplace=True)\n",
    "#sub_transformed.set_index(\"Area\", inplace=True)\n",
    "\n",
    "#sub_transformed.head()"
   ]
  },
  {
   "cell_type": "code",
   "execution_count": 64,
   "metadata": {},
   "outputs": [
    {
     "data": {
      "text/html": [
       "<div>\n",
       "<style scoped>\n",
       "    .dataframe tbody tr th:only-of-type {\n",
       "        vertical-align: middle;\n",
       "    }\n",
       "\n",
       "    .dataframe tbody tr th {\n",
       "        vertical-align: top;\n",
       "    }\n",
       "\n",
       "    .dataframe thead th {\n",
       "        text-align: right;\n",
       "    }\n",
       "</style>\n",
       "<table border=\"1\" class=\"dataframe\">\n",
       "  <thead>\n",
       "    <tr style=\"text-align: right;\">\n",
       "      <th></th>\n",
       "      <th>Area</th>\n",
       "      <th>Years</th>\n",
       "      <th>Subscribers</th>\n",
       "    </tr>\n",
       "  </thead>\n",
       "  <tbody>\n",
       "    <tr>\n",
       "      <th>0</th>\n",
       "      <td>United States and Canada</td>\n",
       "      <td>2018</td>\n",
       "      <td>60909000</td>\n",
       "    </tr>\n",
       "    <tr>\n",
       "      <th>4</th>\n",
       "      <td>United States and Canada</td>\n",
       "      <td>2018</td>\n",
       "      <td>61870000</td>\n",
       "    </tr>\n",
       "    <tr>\n",
       "      <th>8</th>\n",
       "      <td>United States and Canada</td>\n",
       "      <td>2018</td>\n",
       "      <td>63010000</td>\n",
       "    </tr>\n",
       "    <tr>\n",
       "      <th>12</th>\n",
       "      <td>United States and Canada</td>\n",
       "      <td>2018</td>\n",
       "      <td>64757000</td>\n",
       "    </tr>\n",
       "    <tr>\n",
       "      <th>16</th>\n",
       "      <td>United States and Canada</td>\n",
       "      <td>2019</td>\n",
       "      <td>66633000</td>\n",
       "    </tr>\n",
       "    <tr>\n",
       "      <th>20</th>\n",
       "      <td>United States and Canada</td>\n",
       "      <td>2019</td>\n",
       "      <td>66501000</td>\n",
       "    </tr>\n",
       "    <tr>\n",
       "      <th>24</th>\n",
       "      <td>United States and Canada</td>\n",
       "      <td>2019</td>\n",
       "      <td>67114000</td>\n",
       "    </tr>\n",
       "    <tr>\n",
       "      <th>28</th>\n",
       "      <td>United States and Canada</td>\n",
       "      <td>2019</td>\n",
       "      <td>67662000</td>\n",
       "    </tr>\n",
       "    <tr>\n",
       "      <th>32</th>\n",
       "      <td>United States and Canada</td>\n",
       "      <td>2020</td>\n",
       "      <td>69969000</td>\n",
       "    </tr>\n",
       "    <tr>\n",
       "      <th>36</th>\n",
       "      <td>United States and Canada</td>\n",
       "      <td>2020</td>\n",
       "      <td>72904000</td>\n",
       "    </tr>\n",
       "  </tbody>\n",
       "</table>\n",
       "</div>"
      ],
      "text/plain": [
       "                        Area Years  Subscribers\n",
       "0   United States and Canada  2018     60909000\n",
       "4   United States and Canada  2018     61870000\n",
       "8   United States and Canada  2018     63010000\n",
       "12  United States and Canada  2018     64757000\n",
       "16  United States and Canada  2019     66633000\n",
       "20  United States and Canada  2019     66501000\n",
       "24  United States and Canada  2019     67114000\n",
       "28  United States and Canada  2019     67662000\n",
       "32  United States and Canada  2020     69969000\n",
       "36  United States and Canada  2020     72904000"
      ]
     },
     "execution_count": 64,
     "metadata": {},
     "output_type": "execute_result"
    }
   ],
   "source": [
    "#filtering using just United States and Canada\n",
    "\n",
    "country=sub_transformed.loc[(sub_transformed[\"Area\"]==\"United States and Canada\")].dropna\n",
    "country()"
   ]
  },
  {
   "cell_type": "code",
   "execution_count": 65,
   "metadata": {},
   "outputs": [],
   "source": [
    "#database connection"
   ]
  },
  {
   "cell_type": "code",
   "execution_count": 66,
   "metadata": {},
   "outputs": [],
   "source": [
    "connection_string =\"postgres:Calimg123@localhost:5432/Netflix\"\n",
    "engine = create_engine(f'postgresql://{connection_string}')"
   ]
  },
  {
   "cell_type": "code",
   "execution_count": 67,
   "metadata": {},
   "outputs": [
    {
     "data": {
      "text/plain": [
       "['netlfix', 'subscribers']"
      ]
     },
     "execution_count": 67,
     "metadata": {},
     "output_type": "execute_result"
    }
   ],
   "source": [
    "engine.table_names()"
   ]
  },
  {
   "cell_type": "code",
   "execution_count": 68,
   "metadata": {},
   "outputs": [],
   "source": [
    "### Load DataFrames into database"
   ]
  },
  {
   "cell_type": "code",
   "execution_count": 80,
   "metadata": {},
   "outputs": [],
   "source": [
    "netflix_transformed.to_sql(name='netflix', con=engine, if_exists='replace', index=True)"
   ]
  },
  {
   "cell_type": "code",
   "execution_count": 81,
   "metadata": {},
   "outputs": [],
   "source": [
    "sub_transformed.to_sql(name='Subscribers', con=engine, if_exists='replace', index=True)"
   ]
  },
  {
   "cell_type": "code",
   "execution_count": null,
   "metadata": {},
   "outputs": [],
   "source": []
  },
  {
   "cell_type": "code",
   "execution_count": 82,
   "metadata": {},
   "outputs": [
    {
     "data": {
      "text/html": [
       "<div>\n",
       "<style scoped>\n",
       "    .dataframe tbody tr th:only-of-type {\n",
       "        vertical-align: middle;\n",
       "    }\n",
       "\n",
       "    .dataframe tbody tr th {\n",
       "        vertical-align: top;\n",
       "    }\n",
       "\n",
       "    .dataframe thead th {\n",
       "        text-align: right;\n",
       "    }\n",
       "</style>\n",
       "<table border=\"1\" class=\"dataframe\">\n",
       "  <thead>\n",
       "    <tr style=\"text-align: right;\">\n",
       "      <th></th>\n",
       "      <th>title</th>\n",
       "      <th>category</th>\n",
       "      <th>Years</th>\n",
       "      <th>rating</th>\n",
       "    </tr>\n",
       "  </thead>\n",
       "  <tbody>\n",
       "    <tr>\n",
       "      <th>0</th>\n",
       "      <td>Norm of the North: King Sized Adventure</td>\n",
       "      <td>Movie</td>\n",
       "      <td>2019</td>\n",
       "      <td>TV-PG</td>\n",
       "    </tr>\n",
       "    <tr>\n",
       "      <th>1</th>\n",
       "      <td>Jandino: Whatever it Takes</td>\n",
       "      <td>Movie</td>\n",
       "      <td>2016</td>\n",
       "      <td>TV-MA</td>\n",
       "    </tr>\n",
       "    <tr>\n",
       "      <th>2</th>\n",
       "      <td>Transformers Prime</td>\n",
       "      <td>TV Show</td>\n",
       "      <td>2018</td>\n",
       "      <td>TV-Y7-FV</td>\n",
       "    </tr>\n",
       "    <tr>\n",
       "      <th>3</th>\n",
       "      <td>Transformers: Robots in Disguise</td>\n",
       "      <td>TV Show</td>\n",
       "      <td>2018</td>\n",
       "      <td>TV-Y7</td>\n",
       "    </tr>\n",
       "    <tr>\n",
       "      <th>4</th>\n",
       "      <td>#realityhigh</td>\n",
       "      <td>Movie</td>\n",
       "      <td>2017</td>\n",
       "      <td>TV-14</td>\n",
       "    </tr>\n",
       "  </tbody>\n",
       "</table>\n",
       "</div>"
      ],
      "text/plain": [
       "                                     title category Years    rating\n",
       "0  Norm of the North: King Sized Adventure    Movie  2019     TV-PG\n",
       "1               Jandino: Whatever it Takes    Movie  2016     TV-MA\n",
       "2                       Transformers Prime  TV Show  2018  TV-Y7-FV\n",
       "3         Transformers: Robots in Disguise  TV Show  2018     TV-Y7\n",
       "4                             #realityhigh    Movie  2017     TV-14"
      ]
     },
     "execution_count": 82,
     "metadata": {},
     "output_type": "execute_result"
    }
   ],
   "source": [
    "#Query confirmed through SQL database for neflix \n",
    "\n",
    "\n",
    "pd.read_sql_query('select * from netflix', con=engine).head()"
   ]
  },
  {
   "cell_type": "code",
   "execution_count": 83,
   "metadata": {},
   "outputs": [
    {
     "data": {
      "text/html": [
       "<div>\n",
       "<style scoped>\n",
       "    .dataframe tbody tr th:only-of-type {\n",
       "        vertical-align: middle;\n",
       "    }\n",
       "\n",
       "    .dataframe tbody tr th {\n",
       "        vertical-align: top;\n",
       "    }\n",
       "\n",
       "    .dataframe thead th {\n",
       "        text-align: right;\n",
       "    }\n",
       "</style>\n",
       "<table border=\"1\" class=\"dataframe\">\n",
       "  <thead>\n",
       "    <tr style=\"text-align: right;\">\n",
       "      <th></th>\n",
       "      <th>id</th>\n",
       "      <th>Subscribers</th>\n",
       "      <th>Area</th>\n",
       "      <th>Years</th>\n",
       "    </tr>\n",
       "  </thead>\n",
       "  <tbody>\n",
       "  </tbody>\n",
       "</table>\n",
       "</div>"
      ],
      "text/plain": [
       "Empty DataFrame\n",
       "Columns: [id, Subscribers, Area, Years]\n",
       "Index: []"
      ]
     },
     "execution_count": 83,
     "metadata": {},
     "output_type": "execute_result"
    }
   ],
   "source": [
    "#Query confirmed through SQL database for Netflix subscribers\n",
    "\n",
    "pd.read_sql_query('select * from Subscribers', con=engine).head()"
   ]
  },
  {
   "cell_type": "code",
   "execution_count": null,
   "metadata": {},
   "outputs": [],
   "source": []
  },
  {
   "cell_type": "code",
   "execution_count": null,
   "metadata": {},
   "outputs": [],
   "source": []
  },
  {
   "cell_type": "code",
   "execution_count": 84,
   "metadata": {},
   "outputs": [
    {
     "data": {
      "text/plain": [
       "<pandas.core.groupby.generic.DataFrameGroupBy object at 0x7ff9232cd1f0>"
      ]
     },
     "execution_count": 84,
     "metadata": {},
     "output_type": "execute_result"
    }
   ],
   "source": [
    "#The numbers of subscribers \n",
    "num_sub =sub_transformed.groupby(\"Years\")\n",
    "num_sub"
   ]
  },
  {
   "cell_type": "code",
   "execution_count": 85,
   "metadata": {},
   "outputs": [
    {
     "data": {
      "text/plain": [
       "Years\n",
       "2018    64757000\n",
       "2019    67662000\n",
       "2020    72904000\n",
       "Name: Subscribers, dtype: int64"
      ]
     },
     "execution_count": 85,
     "metadata": {},
     "output_type": "execute_result"
    }
   ],
   "source": [
    "max_sub = num_sub[\"Subscribers\"].max()\n",
    "max_sub"
   ]
  },
  {
   "cell_type": "code",
   "execution_count": 86,
   "metadata": {},
   "outputs": [],
   "source": [
    "sub_df= pd.DataFrame({\"Subscriber Count\": max_sub,})"
   ]
  },
  {
   "cell_type": "code",
   "execution_count": 87,
   "metadata": {
    "scrolled": true
   },
   "outputs": [
    {
     "data": {
      "text/html": [
       "<div>\n",
       "<style scoped>\n",
       "    .dataframe tbody tr th:only-of-type {\n",
       "        vertical-align: middle;\n",
       "    }\n",
       "\n",
       "    .dataframe tbody tr th {\n",
       "        vertical-align: top;\n",
       "    }\n",
       "\n",
       "    .dataframe thead th {\n",
       "        text-align: right;\n",
       "    }\n",
       "</style>\n",
       "<table border=\"1\" class=\"dataframe\">\n",
       "  <thead>\n",
       "    <tr style=\"text-align: right;\">\n",
       "      <th></th>\n",
       "      <th>Subscriber Count</th>\n",
       "    </tr>\n",
       "    <tr>\n",
       "      <th>Years</th>\n",
       "      <th></th>\n",
       "    </tr>\n",
       "  </thead>\n",
       "  <tbody>\n",
       "    <tr>\n",
       "      <th>2018</th>\n",
       "      <td>64757000</td>\n",
       "    </tr>\n",
       "    <tr>\n",
       "      <th>2019</th>\n",
       "      <td>67662000</td>\n",
       "    </tr>\n",
       "    <tr>\n",
       "      <th>2020</th>\n",
       "      <td>72904000</td>\n",
       "    </tr>\n",
       "  </tbody>\n",
       "</table>\n",
       "</div>"
      ],
      "text/plain": [
       "       Subscriber Count\n",
       "Years                  \n",
       "2018           64757000\n",
       "2019           67662000\n",
       "2020           72904000"
      ]
     },
     "execution_count": 87,
     "metadata": {},
     "output_type": "execute_result"
    }
   ],
   "source": [
    "sub_df.head()"
   ]
  },
  {
   "cell_type": "code",
   "execution_count": null,
   "metadata": {},
   "outputs": [],
   "source": []
  },
  {
   "cell_type": "code",
   "execution_count": 88,
   "metadata": {},
   "outputs": [
    {
     "data": {
      "text/plain": [
       "<pandas.core.groupby.generic.DataFrameGroupBy object at 0x7ff9232cd370>"
      ]
     },
     "execution_count": 88,
     "metadata": {},
     "output_type": "execute_result"
    }
   ],
   "source": [
    "num_rating= netflix_transformed.groupby(\"rating\")\n",
    "num_rating"
   ]
  },
  {
   "cell_type": "code",
   "execution_count": null,
   "metadata": {},
   "outputs": [],
   "source": []
  },
  {
   "cell_type": "code",
   "execution_count": 89,
   "metadata": {},
   "outputs": [],
   "source": [
    "max_rating= num_rating[\"rating\"].max()"
   ]
  },
  {
   "cell_type": "code",
   "execution_count": 90,
   "metadata": {},
   "outputs": [],
   "source": [
    "rating_df=pd.DataFrame({\"rating\": max_rating,})"
   ]
  },
  {
   "cell_type": "code",
   "execution_count": null,
   "metadata": {},
   "outputs": [],
   "source": []
  },
  {
   "cell_type": "code",
   "execution_count": 91,
   "metadata": {},
   "outputs": [],
   "source": [
    "#Top ratings for movies/tv shows\n",
    "\n",
    "#ratings=netflix_transformed.groupby(\"rating\")"
   ]
  },
  {
   "cell_type": "code",
   "execution_count": 92,
   "metadata": {},
   "outputs": [
    {
     "data": {
      "text/plain": [
       "Years\n",
       "2018    1\n",
       "2019    1\n",
       "2020    1\n",
       "Name: Subscriber Count, dtype: int64"
      ]
     },
     "execution_count": 92,
     "metadata": {},
     "output_type": "execute_result"
    }
   ],
   "source": [
    "grouped_dm = sub_df.groupby([\"Years\"]).count()[\"Subscriber Count\"]\n",
    "grouped_dm\n"
   ]
  },
  {
   "cell_type": "code",
   "execution_count": null,
   "metadata": {},
   "outputs": [],
   "source": []
  },
  {
   "cell_type": "code",
   "execution_count": 93,
   "metadata": {},
   "outputs": [],
   "source": [
    "#group by value count for rating per year "
   ]
  },
  {
   "cell_type": "code",
   "execution_count": null,
   "metadata": {},
   "outputs": [],
   "source": []
  },
  {
   "cell_type": "code",
   "execution_count": null,
   "metadata": {},
   "outputs": [],
   "source": []
  },
  {
   "cell_type": "code",
   "execution_count": 94,
   "metadata": {},
   "outputs": [
    {
     "data": {
      "image/png": "[encoded data removed]",
      "text/plain": [
       "<Figure size 432x288 with 1 Axes>"
      ]
     },
     "metadata": {
      "needs_background": "light"
     },
     "output_type": "display_data"
    },
    {
     "data": {
      "text/plain": [
       "<Figure size 432x288 with 0 Axes>"
      ]
     },
     "metadata": {},
     "output_type": "display_data"
    }
   ],
   "source": [
    "grouped_dm = sub_df.groupby([\"Years\"]).count()[\"Subscriber Count\"]\n",
    "grouped_dm\n",
    "\n",
    "sub_chart= grouped_dm.plot(kind=\"bar\", title= \"What year has the most subsribers\")\n",
    "sub_chart.set_xlabel(\"Years\")\n",
    "sub_chart.set_ylabel(\"Subscriber Count\")\n",
    "#plt.xlim(-0.10, len(x_axis)-.5)\n",
    "#plt.ylim(0, max(sub_df[\"Subscriber Count\"])+10)\n",
    "plt.show()\n",
    "plt.tight_layout()"
   ]
  },
  {
   "cell_type": "code",
   "execution_count": null,
   "metadata": {},
   "outputs": [],
   "source": []
  },
  {
   "cell_type": "code",
   "execution_count": 96,
   "metadata": {},
   "outputs": [
    {
     "data": {
      "image/png": "[encoded data removed]",
      "text/plain": [
       "<Figure size 432x288 with 1 Axes>"
      ]
     },
     "metadata": {},
     "output_type": "display_data"
    }
   ],
   "source": [
    "sub_count = sub_df.groupby('Years')\n",
    "netflix_sub_count = pd.DataFrame(sub_count['Subscriber Count'].count())\n",
    "netflix_sub_count.head()\n",
    "netflix_sub_count.plot(kind=\"pie\", y='Subscriber Count', autopct=\"%1.1f%%\", colors = [\"lightpink\", \"lightblue\"], shadow=True, legend=False)\n",
    "plt.axis(\"equal\")\n",
    "plt.title(\"Subscriber Count 2018-2020\")\n",
    "plt.show()"
   ]
  },
  {
   "cell_type": "code",
   "execution_count": 97,
   "metadata": {},
   "outputs": [
    {
     "ename": "SyntaxError",
     "evalue": "invalid syntax (<ipython-input-97-b1d29fd88bc3>, line 1)",
     "output_type": "error",
     "traceback": [
      "\u001b[0;36m  File \u001b[0;32m\"<ipython-input-97-b1d29fd88bc3>\"\u001b[0;36m, line \u001b[0;32m1\u001b[0m\n\u001b[0;31m    top_ratings=(sub_df.groupby{\"Year\"}.value_counts())\u001b[0m\n\u001b[0m                               ^\u001b[0m\n\u001b[0;31mSyntaxError\u001b[0m\u001b[0;31m:\u001b[0m invalid syntax\n"
     ]
    }
   ],
   "source": [
    "top_ratings=(sub_df.groupby{\"Year\"}.value_counts())"
   ]
  },
  {
   "cell_type": "code",
   "execution_count": null,
   "metadata": {},
   "outputs": [],
   "source": []
  }
 ],
 "metadata": {
  "kernelspec": {
   "display_name": "Python 3",
   "language": "python",
   "name": "python3"
  },
  "language_info": {
   "codemirror_mode": {
    "name": "ipython",
    "version": 3
   },
   "file_extension": ".py",
   "mimetype": "text/x-python",
   "name": "python",
   "nbconvert_exporter": "python",
   "pygments_lexer": "ipython3",
   "version": "3.8.3"
  }
 },
 "nbformat": 4,
 "nbformat_minor": 4
}
